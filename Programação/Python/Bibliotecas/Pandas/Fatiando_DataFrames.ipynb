{
 "cells": [
  {
   "cell_type": "code",
   "execution_count": 7,
   "metadata": {},
   "outputs": [
    {
     "data": {
      "application/vnd.microsoft.datawrangler.viewer.v0+json": {
       "columns": [
        {
         "name": "index",
         "rawType": "int64",
         "type": "integer"
        },
        {
         "name": "Unnamed: 0",
         "rawType": "int64",
         "type": "integer"
        },
        {
         "name": "Player",
         "rawType": "object",
         "type": "string"
        },
        {
         "name": "height",
         "rawType": "float64",
         "type": "float"
        },
        {
         "name": "weight",
         "rawType": "float64",
         "type": "float"
        },
        {
         "name": "collage",
         "rawType": "object",
         "type": "string"
        },
        {
         "name": "born",
         "rawType": "float64",
         "type": "float"
        },
        {
         "name": "birth_city",
         "rawType": "object",
         "type": "unknown"
        },
        {
         "name": "birth_state",
         "rawType": "object",
         "type": "unknown"
        }
       ],
       "conversionMethod": "pd.DataFrame",
       "ref": "ecbc468a-ed70-42ff-8af2-fe01def5c788",
       "rows": [
        [
         "0",
         "0",
         "Curly Armstrong",
         "180.0",
         "77.0",
         "Indiana University",
         "1918.0",
         null,
         null
        ],
        [
         "1",
         "1",
         "Cliff Barker",
         "188.0",
         "83.0",
         "University of Kentucky",
         "1921.0",
         "Yorktown",
         "Indiana"
        ],
        [
         "2",
         "2",
         "Leo Barnhorst",
         "193.0",
         "86.0",
         "University of Notre Dame",
         "1924.0",
         null,
         null
        ]
       ],
       "shape": {
        "columns": 8,
        "rows": 3
       }
      },
      "text/html": [
       "<div>\n",
       "<style scoped>\n",
       "    .dataframe tbody tr th:only-of-type {\n",
       "        vertical-align: middle;\n",
       "    }\n",
       "\n",
       "    .dataframe tbody tr th {\n",
       "        vertical-align: top;\n",
       "    }\n",
       "\n",
       "    .dataframe thead th {\n",
       "        text-align: right;\n",
       "    }\n",
       "</style>\n",
       "<table border=\"1\" class=\"dataframe\">\n",
       "  <thead>\n",
       "    <tr style=\"text-align: right;\">\n",
       "      <th></th>\n",
       "      <th>Unnamed: 0</th>\n",
       "      <th>Player</th>\n",
       "      <th>height</th>\n",
       "      <th>weight</th>\n",
       "      <th>collage</th>\n",
       "      <th>born</th>\n",
       "      <th>birth_city</th>\n",
       "      <th>birth_state</th>\n",
       "    </tr>\n",
       "  </thead>\n",
       "  <tbody>\n",
       "    <tr>\n",
       "      <th>0</th>\n",
       "      <td>0</td>\n",
       "      <td>Curly Armstrong</td>\n",
       "      <td>180.0</td>\n",
       "      <td>77.0</td>\n",
       "      <td>Indiana University</td>\n",
       "      <td>1918.0</td>\n",
       "      <td>NaN</td>\n",
       "      <td>NaN</td>\n",
       "    </tr>\n",
       "    <tr>\n",
       "      <th>1</th>\n",
       "      <td>1</td>\n",
       "      <td>Cliff Barker</td>\n",
       "      <td>188.0</td>\n",
       "      <td>83.0</td>\n",
       "      <td>University of Kentucky</td>\n",
       "      <td>1921.0</td>\n",
       "      <td>Yorktown</td>\n",
       "      <td>Indiana</td>\n",
       "    </tr>\n",
       "    <tr>\n",
       "      <th>2</th>\n",
       "      <td>2</td>\n",
       "      <td>Leo Barnhorst</td>\n",
       "      <td>193.0</td>\n",
       "      <td>86.0</td>\n",
       "      <td>University of Notre Dame</td>\n",
       "      <td>1924.0</td>\n",
       "      <td>NaN</td>\n",
       "      <td>NaN</td>\n",
       "    </tr>\n",
       "  </tbody>\n",
       "</table>\n",
       "</div>"
      ],
      "text/plain": [
       "   Unnamed: 0           Player  height  weight                   collage  \\\n",
       "0           0  Curly Armstrong   180.0    77.0        Indiana University   \n",
       "1           1     Cliff Barker   188.0    83.0    University of Kentucky   \n",
       "2           2    Leo Barnhorst   193.0    86.0  University of Notre Dame   \n",
       "\n",
       "     born birth_city birth_state  \n",
       "0  1918.0        NaN         NaN  \n",
       "1  1921.0   Yorktown     Indiana  \n",
       "2  1924.0        NaN         NaN  "
      ]
     },
     "execution_count": 7,
     "metadata": {},
     "output_type": "execute_result"
    }
   ],
   "source": [
    "import pandas as pd\n",
    "file = 'Players.csv'\n",
    "df = pd.read_csv(file)\n",
    "df.head(3)"
   ]
  },
  {
   "cell_type": "code",
   "execution_count": 6,
   "metadata": {},
   "outputs": [
    {
     "data": {
      "text/plain": [
       "Index(['Unnamed: 0', 'Player', 'height', 'weight', 'collage', 'born',\n",
       "       'birth_city', 'birth_state'],\n",
       "      dtype='object')"
      ]
     },
     "execution_count": 6,
     "metadata": {},
     "output_type": "execute_result"
    }
   ],
   "source": [
    "df.columns"
   ]
  },
  {
   "cell_type": "code",
   "execution_count": 21,
   "metadata": {},
   "outputs": [
    {
     "data": {
      "application/vnd.microsoft.datawrangler.viewer.v0+json": {
       "columns": [
        {
         "name": "index",
         "rawType": "int64",
         "type": "integer"
        },
        {
         "name": "Player",
         "rawType": "object",
         "type": "string"
        },
        {
         "name": "height",
         "rawType": "float64",
         "type": "float"
        },
        {
         "name": "weight",
         "rawType": "float64",
         "type": "float"
        }
       ],
       "conversionMethod": "pd.DataFrame",
       "ref": "b101d7ad-a0f7-4c47-8651-52e3c3d36250",
       "rows": [
        [
         "1",
         "Cliff Barker",
         "188.0",
         "83.0"
        ],
        [
         "2",
         "Leo Barnhorst",
         "193.0",
         "86.0"
        ],
        [
         "3",
         "Ed Bartels",
         "196.0",
         "88.0"
        ],
        [
         "4",
         "Ralph Beard",
         "178.0",
         "79.0"
        ],
        [
         "5",
         "Gene Berce",
         "180.0",
         "79.0"
        ]
       ],
       "shape": {
        "columns": 3,
        "rows": 5
       }
      },
      "text/html": [
       "<div>\n",
       "<style scoped>\n",
       "    .dataframe tbody tr th:only-of-type {\n",
       "        vertical-align: middle;\n",
       "    }\n",
       "\n",
       "    .dataframe tbody tr th {\n",
       "        vertical-align: top;\n",
       "    }\n",
       "\n",
       "    .dataframe thead th {\n",
       "        text-align: right;\n",
       "    }\n",
       "</style>\n",
       "<table border=\"1\" class=\"dataframe\">\n",
       "  <thead>\n",
       "    <tr style=\"text-align: right;\">\n",
       "      <th></th>\n",
       "      <th>Player</th>\n",
       "      <th>height</th>\n",
       "      <th>weight</th>\n",
       "    </tr>\n",
       "  </thead>\n",
       "  <tbody>\n",
       "    <tr>\n",
       "      <th>1</th>\n",
       "      <td>Cliff Barker</td>\n",
       "      <td>188.0</td>\n",
       "      <td>83.0</td>\n",
       "    </tr>\n",
       "    <tr>\n",
       "      <th>2</th>\n",
       "      <td>Leo Barnhorst</td>\n",
       "      <td>193.0</td>\n",
       "      <td>86.0</td>\n",
       "    </tr>\n",
       "    <tr>\n",
       "      <th>3</th>\n",
       "      <td>Ed Bartels</td>\n",
       "      <td>196.0</td>\n",
       "      <td>88.0</td>\n",
       "    </tr>\n",
       "    <tr>\n",
       "      <th>4</th>\n",
       "      <td>Ralph Beard</td>\n",
       "      <td>178.0</td>\n",
       "      <td>79.0</td>\n",
       "    </tr>\n",
       "    <tr>\n",
       "      <th>5</th>\n",
       "      <td>Gene Berce</td>\n",
       "      <td>180.0</td>\n",
       "      <td>79.0</td>\n",
       "    </tr>\n",
       "  </tbody>\n",
       "</table>\n",
       "</div>"
      ],
      "text/plain": [
       "          Player  height  weight\n",
       "1   Cliff Barker   188.0    83.0\n",
       "2  Leo Barnhorst   193.0    86.0\n",
       "3     Ed Bartels   196.0    88.0\n",
       "4    Ralph Beard   178.0    79.0\n",
       "5     Gene Berce   180.0    79.0"
      ]
     },
     "execution_count": 21,
     "metadata": {},
     "output_type": "execute_result"
    }
   ],
   "source": [
    "df.loc[1:5,['Player','height','weight']]"
   ]
  },
  {
   "cell_type": "code",
   "execution_count": null,
   "metadata": {},
   "outputs": [
    {
     "data": {
      "application/vnd.microsoft.datawrangler.viewer.v0+json": {
       "columns": [
        {
         "name": "index",
         "rawType": "int64",
         "type": "integer"
        },
        {
         "name": "Unnamed: 0",
         "rawType": "int64",
         "type": "integer"
        },
        {
         "name": "Player",
         "rawType": "object",
         "type": "string"
        },
        {
         "name": "height",
         "rawType": "float64",
         "type": "float"
        },
        {
         "name": "weight",
         "rawType": "float64",
         "type": "float"
        },
        {
         "name": "collage",
         "rawType": "object",
         "type": "string"
        },
        {
         "name": "born",
         "rawType": "float64",
         "type": "float"
        },
        {
         "name": "birth_city",
         "rawType": "object",
         "type": "unknown"
        },
        {
         "name": "birth_state",
         "rawType": "object",
         "type": "unknown"
        }
       ],
       "conversionMethod": "pd.DataFrame",
       "ref": "09dfe02d-9bb8-4ad8-81b7-6782bf9dbe40",
       "rows": [
        [
         "1",
         "1",
         "Cliff Barker",
         "188.0",
         "83.0",
         "University of Kentucky",
         "1921.0",
         "Yorktown",
         "Indiana"
        ],
        [
         "4",
         "4",
         "Ralph Beard",
         "178.0",
         "79.0",
         "University of Kentucky",
         "1927.0",
         "Hardinsburg",
         "Kentucky"
        ],
        [
         "7",
         "7",
         "Nelson Bobb",
         "183.0",
         "77.0",
         "Temple University",
         "1924.0",
         "Philadelphia",
         "Pennsylvania"
        ],
        [
         "10",
         "10",
         "Don Boven",
         "193.0",
         "95.0",
         "Western Michigan University",
         "1925.0",
         "Kalamazoo",
         "Michigan"
        ],
        [
         "13",
         "13",
         "Bob Brannum",
         "196.0",
         "97.0",
         "Michigan State University",
         "1925.0",
         null,
         null
        ],
        [
         "16",
         "16",
         "Price Brookfield",
         "193.0",
         "83.0",
         "West Texas A&M University",
         "1920.0",
         "Floydada",
         "Texas"
        ],
        [
         "19",
         "19",
         "Walt Budko",
         "196.0",
         "99.0",
         "Columbia University",
         "1925.0",
         "Kearney",
         "New Jersey"
        ],
        [
         "22",
         "22",
         "Bill Calhoun",
         "190.0",
         "81.0",
         "City College of San Francisco",
         "1927.0",
         "San Francisco",
         "California"
        ],
        [
         "25",
         "25",
         "Jake Carter",
         "193.0",
         "88.0",
         "East Texas State University",
         "1924.0",
         null,
         null
        ],
        [
         "28",
         "28",
         "Leroy Chollet",
         "188.0",
         "86.0",
         "Canisius College",
         "1925.0",
         "New Orleans",
         "Louisiana"
        ]
       ],
       "shape": {
        "columns": 8,
        "rows": 10
       }
      },
      "text/html": [
       "<div>\n",
       "<style scoped>\n",
       "    .dataframe tbody tr th:only-of-type {\n",
       "        vertical-align: middle;\n",
       "    }\n",
       "\n",
       "    .dataframe tbody tr th {\n",
       "        vertical-align: top;\n",
       "    }\n",
       "\n",
       "    .dataframe thead th {\n",
       "        text-align: right;\n",
       "    }\n",
       "</style>\n",
       "<table border=\"1\" class=\"dataframe\">\n",
       "  <thead>\n",
       "    <tr style=\"text-align: right;\">\n",
       "      <th></th>\n",
       "      <th>Unnamed: 0</th>\n",
       "      <th>Player</th>\n",
       "      <th>height</th>\n",
       "      <th>weight</th>\n",
       "      <th>collage</th>\n",
       "      <th>born</th>\n",
       "      <th>birth_city</th>\n",
       "      <th>birth_state</th>\n",
       "    </tr>\n",
       "  </thead>\n",
       "  <tbody>\n",
       "    <tr>\n",
       "      <th>1</th>\n",
       "      <td>1</td>\n",
       "      <td>Cliff Barker</td>\n",
       "      <td>188.0</td>\n",
       "      <td>83.0</td>\n",
       "      <td>University of Kentucky</td>\n",
       "      <td>1921.0</td>\n",
       "      <td>Yorktown</td>\n",
       "      <td>Indiana</td>\n",
       "    </tr>\n",
       "    <tr>\n",
       "      <th>4</th>\n",
       "      <td>4</td>\n",
       "      <td>Ralph Beard</td>\n",
       "      <td>178.0</td>\n",
       "      <td>79.0</td>\n",
       "      <td>University of Kentucky</td>\n",
       "      <td>1927.0</td>\n",
       "      <td>Hardinsburg</td>\n",
       "      <td>Kentucky</td>\n",
       "    </tr>\n",
       "    <tr>\n",
       "      <th>7</th>\n",
       "      <td>7</td>\n",
       "      <td>Nelson Bobb</td>\n",
       "      <td>183.0</td>\n",
       "      <td>77.0</td>\n",
       "      <td>Temple University</td>\n",
       "      <td>1924.0</td>\n",
       "      <td>Philadelphia</td>\n",
       "      <td>Pennsylvania</td>\n",
       "    </tr>\n",
       "    <tr>\n",
       "      <th>10</th>\n",
       "      <td>10</td>\n",
       "      <td>Don Boven</td>\n",
       "      <td>193.0</td>\n",
       "      <td>95.0</td>\n",
       "      <td>Western Michigan University</td>\n",
       "      <td>1925.0</td>\n",
       "      <td>Kalamazoo</td>\n",
       "      <td>Michigan</td>\n",
       "    </tr>\n",
       "    <tr>\n",
       "      <th>13</th>\n",
       "      <td>13</td>\n",
       "      <td>Bob Brannum</td>\n",
       "      <td>196.0</td>\n",
       "      <td>97.0</td>\n",
       "      <td>Michigan State University</td>\n",
       "      <td>1925.0</td>\n",
       "      <td>NaN</td>\n",
       "      <td>NaN</td>\n",
       "    </tr>\n",
       "    <tr>\n",
       "      <th>16</th>\n",
       "      <td>16</td>\n",
       "      <td>Price Brookfield</td>\n",
       "      <td>193.0</td>\n",
       "      <td>83.0</td>\n",
       "      <td>West Texas A&amp;M University</td>\n",
       "      <td>1920.0</td>\n",
       "      <td>Floydada</td>\n",
       "      <td>Texas</td>\n",
       "    </tr>\n",
       "    <tr>\n",
       "      <th>19</th>\n",
       "      <td>19</td>\n",
       "      <td>Walt Budko</td>\n",
       "      <td>196.0</td>\n",
       "      <td>99.0</td>\n",
       "      <td>Columbia University</td>\n",
       "      <td>1925.0</td>\n",
       "      <td>Kearney</td>\n",
       "      <td>New Jersey</td>\n",
       "    </tr>\n",
       "    <tr>\n",
       "      <th>22</th>\n",
       "      <td>22</td>\n",
       "      <td>Bill Calhoun</td>\n",
       "      <td>190.0</td>\n",
       "      <td>81.0</td>\n",
       "      <td>City College of San Francisco</td>\n",
       "      <td>1927.0</td>\n",
       "      <td>San Francisco</td>\n",
       "      <td>California</td>\n",
       "    </tr>\n",
       "    <tr>\n",
       "      <th>25</th>\n",
       "      <td>25</td>\n",
       "      <td>Jake Carter</td>\n",
       "      <td>193.0</td>\n",
       "      <td>88.0</td>\n",
       "      <td>East Texas State University</td>\n",
       "      <td>1924.0</td>\n",
       "      <td>NaN</td>\n",
       "      <td>NaN</td>\n",
       "    </tr>\n",
       "    <tr>\n",
       "      <th>28</th>\n",
       "      <td>28</td>\n",
       "      <td>Leroy Chollet</td>\n",
       "      <td>188.0</td>\n",
       "      <td>86.0</td>\n",
       "      <td>Canisius College</td>\n",
       "      <td>1925.0</td>\n",
       "      <td>New Orleans</td>\n",
       "      <td>Louisiana</td>\n",
       "    </tr>\n",
       "  </tbody>\n",
       "</table>\n",
       "</div>"
      ],
      "text/plain": [
       "    Unnamed: 0            Player  height  weight  \\\n",
       "1            1      Cliff Barker   188.0    83.0   \n",
       "4            4       Ralph Beard   178.0    79.0   \n",
       "7            7       Nelson Bobb   183.0    77.0   \n",
       "10          10         Don Boven   193.0    95.0   \n",
       "13          13       Bob Brannum   196.0    97.0   \n",
       "16          16  Price Brookfield   193.0    83.0   \n",
       "19          19        Walt Budko   196.0    99.0   \n",
       "22          22      Bill Calhoun   190.0    81.0   \n",
       "25          25       Jake Carter   193.0    88.0   \n",
       "28          28     Leroy Chollet   188.0    86.0   \n",
       "\n",
       "                          collage    born     birth_city   birth_state  \n",
       "1          University of Kentucky  1921.0       Yorktown       Indiana  \n",
       "4          University of Kentucky  1927.0    Hardinsburg      Kentucky  \n",
       "7               Temple University  1924.0   Philadelphia  Pennsylvania  \n",
       "10    Western Michigan University  1925.0      Kalamazoo      Michigan  \n",
       "13      Michigan State University  1925.0            NaN           NaN  \n",
       "16      West Texas A&M University  1920.0       Floydada         Texas  \n",
       "19            Columbia University  1925.0        Kearney    New Jersey  \n",
       "22  City College of San Francisco  1927.0  San Francisco    California  \n",
       "25    East Texas State University  1924.0            NaN           NaN  \n",
       "28               Canisius College  1925.0    New Orleans     Louisiana  "
      ]
     },
     "execution_count": 24,
     "metadata": {},
     "output_type": "execute_result"
    }
   ],
   "source": [
    "df.iloc[1:30:3,::]"
   ]
  },
  {
   "cell_type": "code",
   "execution_count": null,
   "metadata": {},
   "outputs": [],
   "source": []
  }
 ],
 "metadata": {
  "kernelspec": {
   "display_name": "Python 3",
   "language": "python",
   "name": "python3"
  },
  "language_info": {
   "codemirror_mode": {
    "name": "ipython",
    "version": 3
   },
   "file_extension": ".py",
   "mimetype": "text/x-python",
   "name": "python",
   "nbconvert_exporter": "python",
   "pygments_lexer": "ipython3",
   "version": "3.12.6"
  }
 },
 "nbformat": 4,
 "nbformat_minor": 2
}
