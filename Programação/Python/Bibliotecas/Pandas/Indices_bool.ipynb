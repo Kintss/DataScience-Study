{
 "cells": [
  {
   "cell_type": "code",
   "execution_count": null,
   "metadata": {},
   "outputs": [
    {
     "data": {
      "application/vnd.microsoft.datawrangler.viewer.v0+json": {
       "columns": [
        {
         "name": "index",
         "rawType": "int64",
         "type": "integer"
        },
        {
         "name": "Unnamed: 0",
         "rawType": "int64",
         "type": "integer"
        },
        {
         "name": "Player",
         "rawType": "object",
         "type": "string"
        },
        {
         "name": "height",
         "rawType": "float64",
         "type": "float"
        },
        {
         "name": "weight",
         "rawType": "float64",
         "type": "float"
        },
        {
         "name": "collage",
         "rawType": "object",
         "type": "string"
        },
        {
         "name": "born",
         "rawType": "float64",
         "type": "float"
        },
        {
         "name": "birth_city",
         "rawType": "object",
         "type": "unknown"
        },
        {
         "name": "birth_state",
         "rawType": "object",
         "type": "unknown"
        }
       ],
       "conversionMethod": "pd.DataFrame",
       "ref": "50b755ec-338e-4580-a4dc-80e9598eec35",
       "rows": [
        [
         "0",
         "0",
         "Curly Armstrong",
         "180.0",
         "77.0",
         "Indiana University",
         "1918.0",
         null,
         null
        ],
        [
         "1",
         "1",
         "Cliff Barker",
         "188.0",
         "83.0",
         "University of Kentucky",
         "1921.0",
         "Yorktown",
         "Indiana"
        ],
        [
         "2",
         "2",
         "Leo Barnhorst",
         "193.0",
         "86.0",
         "University of Notre Dame",
         "1924.0",
         null,
         null
        ],
        [
         "3",
         "3",
         "Ed Bartels",
         "196.0",
         "88.0",
         "North Carolina State University",
         "1925.0",
         null,
         null
        ],
        [
         "4",
         "4",
         "Ralph Beard",
         "178.0",
         "79.0",
         "University of Kentucky",
         "1927.0",
         "Hardinsburg",
         "Kentucky"
        ]
       ],
       "shape": {
        "columns": 8,
        "rows": 5
       }
      },
      "text/html": [
       "<div>\n",
       "<style scoped>\n",
       "    .dataframe tbody tr th:only-of-type {\n",
       "        vertical-align: middle;\n",
       "    }\n",
       "\n",
       "    .dataframe tbody tr th {\n",
       "        vertical-align: top;\n",
       "    }\n",
       "\n",
       "    .dataframe thead th {\n",
       "        text-align: right;\n",
       "    }\n",
       "</style>\n",
       "<table border=\"1\" class=\"dataframe\">\n",
       "  <thead>\n",
       "    <tr style=\"text-align: right;\">\n",
       "      <th></th>\n",
       "      <th>Unnamed: 0</th>\n",
       "      <th>Player</th>\n",
       "      <th>height</th>\n",
       "      <th>weight</th>\n",
       "      <th>collage</th>\n",
       "      <th>born</th>\n",
       "      <th>birth_city</th>\n",
       "      <th>birth_state</th>\n",
       "    </tr>\n",
       "  </thead>\n",
       "  <tbody>\n",
       "    <tr>\n",
       "      <th>0</th>\n",
       "      <td>0</td>\n",
       "      <td>Curly Armstrong</td>\n",
       "      <td>180.0</td>\n",
       "      <td>77.0</td>\n",
       "      <td>Indiana University</td>\n",
       "      <td>1918.0</td>\n",
       "      <td>NaN</td>\n",
       "      <td>NaN</td>\n",
       "    </tr>\n",
       "    <tr>\n",
       "      <th>1</th>\n",
       "      <td>1</td>\n",
       "      <td>Cliff Barker</td>\n",
       "      <td>188.0</td>\n",
       "      <td>83.0</td>\n",
       "      <td>University of Kentucky</td>\n",
       "      <td>1921.0</td>\n",
       "      <td>Yorktown</td>\n",
       "      <td>Indiana</td>\n",
       "    </tr>\n",
       "    <tr>\n",
       "      <th>2</th>\n",
       "      <td>2</td>\n",
       "      <td>Leo Barnhorst</td>\n",
       "      <td>193.0</td>\n",
       "      <td>86.0</td>\n",
       "      <td>University of Notre Dame</td>\n",
       "      <td>1924.0</td>\n",
       "      <td>NaN</td>\n",
       "      <td>NaN</td>\n",
       "    </tr>\n",
       "    <tr>\n",
       "      <th>3</th>\n",
       "      <td>3</td>\n",
       "      <td>Ed Bartels</td>\n",
       "      <td>196.0</td>\n",
       "      <td>88.0</td>\n",
       "      <td>North Carolina State University</td>\n",
       "      <td>1925.0</td>\n",
       "      <td>NaN</td>\n",
       "      <td>NaN</td>\n",
       "    </tr>\n",
       "    <tr>\n",
       "      <th>4</th>\n",
       "      <td>4</td>\n",
       "      <td>Ralph Beard</td>\n",
       "      <td>178.0</td>\n",
       "      <td>79.0</td>\n",
       "      <td>University of Kentucky</td>\n",
       "      <td>1927.0</td>\n",
       "      <td>Hardinsburg</td>\n",
       "      <td>Kentucky</td>\n",
       "    </tr>\n",
       "  </tbody>\n",
       "</table>\n",
       "</div>"
      ],
      "text/plain": [
       "   Unnamed: 0           Player  height  weight  \\\n",
       "0           0  Curly Armstrong   180.0    77.0   \n",
       "1           1     Cliff Barker   188.0    83.0   \n",
       "2           2    Leo Barnhorst   193.0    86.0   \n",
       "3           3       Ed Bartels   196.0    88.0   \n",
       "4           4      Ralph Beard   178.0    79.0   \n",
       "\n",
       "                           collage    born   birth_city birth_state  \n",
       "0               Indiana University  1918.0          NaN         NaN  \n",
       "1           University of Kentucky  1921.0     Yorktown     Indiana  \n",
       "2         University of Notre Dame  1924.0          NaN         NaN  \n",
       "3  North Carolina State University  1925.0          NaN         NaN  \n",
       "4           University of Kentucky  1927.0  Hardinsburg    Kentucky  "
      ]
     },
     "execution_count": 5,
     "metadata": {},
     "output_type": "execute_result"
    }
   ],
   "source": [
    "import pandas as pd\n",
    "import numpy as np\n",
    "\n",
    "file = 'Players.csv'\n",
    "df = pd.read_csv(file)\n",
    "df.head(5)"
   ]
  },
  {
   "cell_type": "code",
   "execution_count": 6,
   "metadata": {},
   "outputs": [
    {
     "data": {
      "text/plain": [
       "Index(['Unnamed: 0', 'Player', 'height', 'weight', 'collage', 'born',\n",
       "       'birth_city', 'birth_state'],\n",
       "      dtype='object')"
      ]
     },
     "execution_count": 6,
     "metadata": {},
     "output_type": "execute_result"
    }
   ],
   "source": [
    "df.columns"
   ]
  },
  {
   "cell_type": "code",
   "execution_count": 8,
   "metadata": {},
   "outputs": [
    {
     "data": {
      "text/plain": [
       "birth_state\n",
       "California                     344\n",
       "New York                       290\n",
       "Illinois                       209\n",
       "Pennsylvania                   163\n",
       "Ohio                           137\n",
       "                              ... \n",
       "United Republic of Tanzania      1\n",
       "FYR Macedonia                    1\n",
       "Tunisia                          1\n",
       "Cape Verde                       1\n",
       "Austria                          1\n",
       "Name: count, Length: 128, dtype: int64"
      ]
     },
     "execution_count": 8,
     "metadata": {},
     "output_type": "execute_result"
    }
   ],
   "source": [
    "df['birth_state'].value_counts()"
   ]
  },
  {
   "cell_type": "code",
   "execution_count": 10,
   "metadata": {},
   "outputs": [
    {
     "data": {
      "text/plain": [
       "birth_state\n",
       "False    3578\n",
       "True      344\n",
       "Name: count, dtype: int64"
      ]
     },
     "execution_count": 10,
     "metadata": {},
     "output_type": "execute_result"
    }
   ],
   "source": [
    "from_California = df['birth_state'] == \"California\"\n",
    "from_California.value_counts()"
   ]
  },
  {
   "cell_type": "code",
   "execution_count": 11,
   "metadata": {},
   "outputs": [
    {
     "data": {
      "application/vnd.microsoft.datawrangler.viewer.v0+json": {
       "columns": [
        {
         "name": "index",
         "rawType": "int64",
         "type": "integer"
        },
        {
         "name": "Unnamed: 0",
         "rawType": "int64",
         "type": "integer"
        },
        {
         "name": "Player",
         "rawType": "object",
         "type": "string"
        },
        {
         "name": "height",
         "rawType": "float64",
         "type": "float"
        },
        {
         "name": "weight",
         "rawType": "float64",
         "type": "float"
        },
        {
         "name": "collage",
         "rawType": "object",
         "type": "unknown"
        },
        {
         "name": "born",
         "rawType": "float64",
         "type": "float"
        },
        {
         "name": "birth_city",
         "rawType": "object",
         "type": "string"
        },
        {
         "name": "birth_state",
         "rawType": "object",
         "type": "string"
        }
       ],
       "conversionMethod": "pd.DataFrame",
       "ref": "fec40202-8c93-4305-b754-ff176e68cfd5",
       "rows": [
        [
         "22",
         "22",
         "Bill Calhoun",
         "190.0",
         "81.0",
         "City College of San Francisco",
         "1927.0",
         "San Francisco",
         "California"
        ],
        [
         "50",
         "50",
         "Bob Feerick",
         "190.0",
         "86.0",
         "Santa Clara University",
         "1920.0",
         "San Francisco",
         "California"
        ],
        [
         "74",
         "74",
         "Alex Hannum*",
         "201.0",
         "95.0",
         "University of Southern California",
         "1923.0",
         "Los Angeles",
         "California"
        ],
        [
         "117",
         "117",
         "John Mandic",
         "193.0",
         "92.0",
         "Oregon State University",
         "1919.0",
         "Los Angeles",
         "California"
        ],
        [
         "130",
         "130",
         "Vern Mikkelsen*",
         "201.0",
         "104.0",
         "Hamline University",
         "1928.0",
         "Fresno",
         "California"
        ],
        [
         "146",
         "146",
         "Dick O'Keefe",
         "188.0",
         "83.0",
         "Santa Clara University",
         "1923.0",
         "San Francisco",
         "California"
        ],
        [
         "162",
         "162",
         "Jim Pollard*",
         "193.0",
         "83.0",
         "Stanford University",
         "1922.0",
         "Oakland",
         "California"
        ],
        [
         "186",
         "186",
         "Fred Scolari",
         "178.0",
         "81.0",
         "University of San Francisco",
         "1922.0",
         "San Francisco",
         "California"
        ],
        [
         "190",
         "190",
         "Jim Seminoff",
         "188.0",
         "86.0",
         "University of Southern California",
         "1922.0",
         "Los Angelse",
         "California"
        ],
        [
         "205",
         "205",
         "Jack Toomay",
         "198.0",
         "97.0",
         "University of the Pacific",
         "1922.0",
         "Ontario",
         "California"
        ],
        [
         "242",
         "242",
         "Don Lofgran",
         "196.0",
         "90.0",
         "University of San Francisco",
         "1928.0",
         "Oakland",
         "California"
        ],
        [
         "248",
         "248",
         "Kevin O'Shea",
         "188.0",
         "79.0",
         "University of Notre Dame",
         "1925.0",
         "San Francisco",
         "California"
        ],
        [
         "251",
         "251",
         "Alan Sawyer",
         "196.0",
         "88.0",
         "University of California, Los Angeles",
         "1928.0",
         "Long Beach",
         "California"
        ],
        [
         "255",
         "255",
         "Don Barksdale*",
         "198.0",
         "90.0",
         "University of California, Los Angeles",
         "1923.0",
         "Oakland",
         "California"
        ],
        [
         "264",
         "264",
         "Mel Hutchins",
         "198.0",
         "90.0",
         "Brigham Young University",
         "1928.0",
         "Sacramento",
         "California"
        ],
        [
         "342",
         "342",
         "Bob Peterson",
         "196.0",
         "95.0",
         "University of Oregon",
         "1932.0",
         "San Mateo",
         "California"
        ],
        [
         "353",
         "353",
         "George Yardley*",
         "196.0",
         "86.0",
         "Stanford University",
         "1928.0",
         "Hollywood",
         "California"
        ],
        [
         "405",
         "405",
         "Jim Loscutoff",
         "196.0",
         "99.0",
         "University of Oregon",
         "1930.0",
         "San Francisco",
         "California"
        ],
        [
         "413",
         "413",
         "Kenny Sears",
         "206.0",
         "89.0",
         "Santa Clara University",
         "1933.0",
         "Watsonville",
         "California"
        ],
        [
         "430",
         "430",
         "Phil Jordon",
         "208.0",
         "92.0",
         "Whitworth",
         "1933.0",
         "Lakeport",
         "California"
        ],
        [
         "463",
         "463",
         "Jim Walsh",
         "193.0",
         "88.0",
         "Stanford University",
         "1930.0",
         "San Francisco",
         "California"
        ],
        [
         "479",
         "479",
         "Andy Johnson",
         "196.0",
         "97.0",
         "University of Portland",
         "1932.0",
         "Los Angeles",
         "California"
        ],
        [
         "514",
         "514",
         "Darrall Imhoff",
         "208.0",
         "99.0",
         "University of California",
         "1938.0",
         "San Gabriel",
         "California"
        ],
        [
         "588",
         "588",
         "John Rudometkin",
         "198.0",
         "92.0",
         "University of Southern California",
         "1940.0",
         "Santa Maria",
         "California"
        ],
        [
         "653",
         "653",
         "Keith Erickson",
         "196.0",
         "88.0",
         "University of California, Los Angeles",
         "1944.0",
         "San Francisco",
         "California"
        ],
        [
         "654",
         "654",
         "John Fairchild",
         "203.0",
         "92.0",
         "Brigham Young University",
         "1943.0",
         "Encinitas",
         "California"
        ],
        [
         "656",
         "656",
         "Gail Goodrich*",
         "185.0",
         "77.0",
         "University of California, Los Angeles",
         "1943.0",
         "Los Angeles",
         "California"
        ],
        [
         "675",
         "675",
         "John Block",
         "206.0",
         "93.0",
         "University of Southern California",
         "1944.0",
         "Los Angeles",
         "California"
        ],
        [
         "717",
         "717",
         "Dennis Hamilton",
         "203.0",
         "95.0",
         "Arizona State University",
         "1944.0",
         "Huntington Beach",
         "California"
        ],
        [
         "735",
         "735",
         "Bob Rule",
         "206.0",
         "99.0",
         "Colorado State University",
         "1944.0",
         "Riverside",
         "California"
        ],
        [
         "747",
         "747",
         "Rick Adelman",
         "185.0",
         "79.0",
         "Loyola Marymount University",
         "1946.0",
         "Lynwood",
         "California"
        ],
        [
         "805",
         "805",
         "Mike Lynn",
         "201.0",
         "97.0",
         "University of California, Los Angeles",
         "1945.0",
         "Covina",
         "California"
        ],
        [
         "809",
         "809",
         "Bud Ogden",
         "198.0",
         "97.0",
         "Santa Clara University",
         "1946.0",
         "San Luis Obispo",
         "California"
        ],
        [
         "810",
         "810",
         "Bob Portman",
         "196.0",
         "90.0",
         "Creighton University",
         "1947.0",
         "San Francisco",
         "California"
        ],
        [
         "825",
         "825",
         "Dennis Awtrey",
         "208.0",
         "106.0",
         "Santa Clara University",
         "1948.0",
         "Hollywood",
         "California"
        ],
        [
         "865",
         "865",
         "Paul Ruffner",
         "208.0",
         "102.0",
         "Brigham Young University",
         "1948.0",
         "Downey",
         "California"
        ],
        [
         "890",
         "890",
         "Phil Chenier",
         "190.0",
         "81.0",
         "University of California",
         "1950.0",
         "Berkeley",
         "California"
        ],
        [
         "901",
         "901",
         "Stan Love",
         "206.0",
         "97.0",
         "University of Oregon",
         "1949.0",
         "Los Angeles",
         "California"
        ],
        [
         "913",
         "913",
         "Steve Patterson",
         "206.0",
         "102.0",
         "University of California, Los Angeles",
         "1948.0",
         "Riverside",
         "California"
        ],
        [
         "926",
         "926",
         "Sidney Wicks",
         "203.0",
         "102.0",
         "University of California, Los Angeles",
         "1949.0",
         "Los Angeles",
         "California"
        ],
        [
         "933",
         "933",
         "Freddie Boyd",
         "188.0",
         "81.0",
         "Oregon State University",
         "1950.0",
         "Bakersfield",
         "California"
        ],
        [
         "946",
         "946",
         "John Gianelli",
         "208.0",
         "99.0",
         "University of the Pacific",
         "1950.0",
         "Stockton",
         "California"
        ],
        [
         "965",
         "965",
         "Ron Riley",
         "203.0",
         "88.0",
         "University of Southern California",
         "1950.0",
         "Los Angeles",
         "California"
        ],
        [
         "971",
         "971",
         "Chuck Terry",
         "198.0",
         "97.0",
         "California State University, Long Beach",
         "1950.0",
         "Long Beach",
         "California"
        ],
        [
         "973",
         "973",
         "John Tschogl",
         "198.0",
         "93.0",
         "University of California, Santa Barbara",
         "1950.0",
         "Chula Vista",
         "California"
        ],
        [
         "974",
         "974",
         "Paul Westphal",
         "193.0",
         "88.0",
         "University of Southern California",
         "1950.0",
         "Torrance",
         "California"
        ],
        [
         "1009",
         "1009",
         "Louie Nelson",
         "190.0",
         "86.0",
         "University of Washington",
         "1951.0",
         "Los Angeles",
         "California"
        ],
        [
         "1010",
         "1010",
         "Jim Owens",
         "196.0",
         "90.0",
         "Arizona State University",
         "1950.0",
         "Los Angeles",
         "California"
        ],
        [
         "1050",
         "1050",
         "Kevin Restani",
         "206.0",
         "102.0",
         "University of San Francisco",
         "1951.0",
         "San Francisco",
         "California"
        ],
        [
         "1056",
         "1056",
         "Phil Smith",
         "193.0",
         "83.0",
         "University of San Francisco",
         "1952.0",
         "San Francisco",
         "California"
        ]
       ],
       "shape": {
        "columns": 8,
        "rows": 344
       }
      },
      "text/html": [
       "<div>\n",
       "<style scoped>\n",
       "    .dataframe tbody tr th:only-of-type {\n",
       "        vertical-align: middle;\n",
       "    }\n",
       "\n",
       "    .dataframe tbody tr th {\n",
       "        vertical-align: top;\n",
       "    }\n",
       "\n",
       "    .dataframe thead th {\n",
       "        text-align: right;\n",
       "    }\n",
       "</style>\n",
       "<table border=\"1\" class=\"dataframe\">\n",
       "  <thead>\n",
       "    <tr style=\"text-align: right;\">\n",
       "      <th></th>\n",
       "      <th>Unnamed: 0</th>\n",
       "      <th>Player</th>\n",
       "      <th>height</th>\n",
       "      <th>weight</th>\n",
       "      <th>collage</th>\n",
       "      <th>born</th>\n",
       "      <th>birth_city</th>\n",
       "      <th>birth_state</th>\n",
       "    </tr>\n",
       "  </thead>\n",
       "  <tbody>\n",
       "    <tr>\n",
       "      <th>22</th>\n",
       "      <td>22</td>\n",
       "      <td>Bill Calhoun</td>\n",
       "      <td>190.0</td>\n",
       "      <td>81.0</td>\n",
       "      <td>City College of San Francisco</td>\n",
       "      <td>1927.0</td>\n",
       "      <td>San Francisco</td>\n",
       "      <td>California</td>\n",
       "    </tr>\n",
       "    <tr>\n",
       "      <th>50</th>\n",
       "      <td>50</td>\n",
       "      <td>Bob Feerick</td>\n",
       "      <td>190.0</td>\n",
       "      <td>86.0</td>\n",
       "      <td>Santa Clara University</td>\n",
       "      <td>1920.0</td>\n",
       "      <td>San Francisco</td>\n",
       "      <td>California</td>\n",
       "    </tr>\n",
       "    <tr>\n",
       "      <th>74</th>\n",
       "      <td>74</td>\n",
       "      <td>Alex Hannum*</td>\n",
       "      <td>201.0</td>\n",
       "      <td>95.0</td>\n",
       "      <td>University of Southern California</td>\n",
       "      <td>1923.0</td>\n",
       "      <td>Los Angeles</td>\n",
       "      <td>California</td>\n",
       "    </tr>\n",
       "    <tr>\n",
       "      <th>117</th>\n",
       "      <td>117</td>\n",
       "      <td>John Mandic</td>\n",
       "      <td>193.0</td>\n",
       "      <td>92.0</td>\n",
       "      <td>Oregon State University</td>\n",
       "      <td>1919.0</td>\n",
       "      <td>Los Angeles</td>\n",
       "      <td>California</td>\n",
       "    </tr>\n",
       "    <tr>\n",
       "      <th>130</th>\n",
       "      <td>130</td>\n",
       "      <td>Vern Mikkelsen*</td>\n",
       "      <td>201.0</td>\n",
       "      <td>104.0</td>\n",
       "      <td>Hamline University</td>\n",
       "      <td>1928.0</td>\n",
       "      <td>Fresno</td>\n",
       "      <td>California</td>\n",
       "    </tr>\n",
       "    <tr>\n",
       "      <th>...</th>\n",
       "      <td>...</td>\n",
       "      <td>...</td>\n",
       "      <td>...</td>\n",
       "      <td>...</td>\n",
       "      <td>...</td>\n",
       "      <td>...</td>\n",
       "      <td>...</td>\n",
       "      <td>...</td>\n",
       "    </tr>\n",
       "    <tr>\n",
       "      <th>3845</th>\n",
       "      <td>3845</td>\n",
       "      <td>Marquese Chriss</td>\n",
       "      <td>208.0</td>\n",
       "      <td>105.0</td>\n",
       "      <td>University of Washington</td>\n",
       "      <td>1997.0</td>\n",
       "      <td>Sacramento</td>\n",
       "      <td>California</td>\n",
       "    </tr>\n",
       "    <tr>\n",
       "      <th>3861</th>\n",
       "      <td>3861</td>\n",
       "      <td>Jonathan Gibson</td>\n",
       "      <td>188.0</td>\n",
       "      <td>83.0</td>\n",
       "      <td>New Mexico State University</td>\n",
       "      <td>1987.0</td>\n",
       "      <td>West Covina</td>\n",
       "      <td>California</td>\n",
       "    </tr>\n",
       "    <tr>\n",
       "      <th>3890</th>\n",
       "      <td>3890</td>\n",
       "      <td>David Nwaba</td>\n",
       "      <td>193.0</td>\n",
       "      <td>94.0</td>\n",
       "      <td>California Polytechnic State University, San L...</td>\n",
       "      <td>1993.0</td>\n",
       "      <td>Los Angeles</td>\n",
       "      <td>California</td>\n",
       "    </tr>\n",
       "    <tr>\n",
       "      <th>3894</th>\n",
       "      <td>3894</td>\n",
       "      <td>Gary Payton</td>\n",
       "      <td>193.0</td>\n",
       "      <td>81.0</td>\n",
       "      <td>Oregon State University</td>\n",
       "      <td>1968.0</td>\n",
       "      <td>Oakland</td>\n",
       "      <td>California</td>\n",
       "    </tr>\n",
       "    <tr>\n",
       "      <th>3908</th>\n",
       "      <td>3908</td>\n",
       "      <td>Isaiah Taylor</td>\n",
       "      <td>190.0</td>\n",
       "      <td>77.0</td>\n",
       "      <td>University of Texas at Austin</td>\n",
       "      <td>1994.0</td>\n",
       "      <td>Hayward</td>\n",
       "      <td>California</td>\n",
       "    </tr>\n",
       "  </tbody>\n",
       "</table>\n",
       "<p>344 rows × 8 columns</p>\n",
       "</div>"
      ],
      "text/plain": [
       "      Unnamed: 0           Player  height  weight  \\\n",
       "22            22     Bill Calhoun   190.0    81.0   \n",
       "50            50      Bob Feerick   190.0    86.0   \n",
       "74            74     Alex Hannum*   201.0    95.0   \n",
       "117          117      John Mandic   193.0    92.0   \n",
       "130          130  Vern Mikkelsen*   201.0   104.0   \n",
       "...          ...              ...     ...     ...   \n",
       "3845        3845  Marquese Chriss   208.0   105.0   \n",
       "3861        3861  Jonathan Gibson   188.0    83.0   \n",
       "3890        3890      David Nwaba   193.0    94.0   \n",
       "3894        3894      Gary Payton   193.0    81.0   \n",
       "3908        3908    Isaiah Taylor   190.0    77.0   \n",
       "\n",
       "                                                collage    born  \\\n",
       "22                        City College of San Francisco  1927.0   \n",
       "50                               Santa Clara University  1920.0   \n",
       "74                    University of Southern California  1923.0   \n",
       "117                             Oregon State University  1919.0   \n",
       "130                                  Hamline University  1928.0   \n",
       "...                                                 ...     ...   \n",
       "3845                           University of Washington  1997.0   \n",
       "3861                        New Mexico State University  1987.0   \n",
       "3890  California Polytechnic State University, San L...  1993.0   \n",
       "3894                            Oregon State University  1968.0   \n",
       "3908                      University of Texas at Austin  1994.0   \n",
       "\n",
       "         birth_city birth_state  \n",
       "22    San Francisco  California  \n",
       "50    San Francisco  California  \n",
       "74      Los Angeles  California  \n",
       "117     Los Angeles  California  \n",
       "130          Fresno  California  \n",
       "...             ...         ...  \n",
       "3845     Sacramento  California  \n",
       "3861    West Covina  California  \n",
       "3890    Los Angeles  California  \n",
       "3894        Oakland  California  \n",
       "3908        Hayward  California  \n",
       "\n",
       "[344 rows x 8 columns]"
      ]
     },
     "execution_count": 11,
     "metadata": {},
     "output_type": "execute_result"
    }
   ],
   "source": [
    "df[from_California]"
   ]
  },
  {
   "cell_type": "code",
   "execution_count": 19,
   "metadata": {},
   "outputs": [
    {
     "data": {
      "application/vnd.microsoft.datawrangler.viewer.v0+json": {
       "columns": [
        {
         "name": "index",
         "rawType": "int64",
         "type": "integer"
        },
        {
         "name": "Player",
         "rawType": "object",
         "type": "string"
        },
        {
         "name": "height",
         "rawType": "float64",
         "type": "float"
        },
        {
         "name": "weight",
         "rawType": "float64",
         "type": "float"
        },
        {
         "name": "born",
         "rawType": "float64",
         "type": "float"
        }
       ],
       "conversionMethod": "pd.DataFrame",
       "ref": "84a6cc58-b238-4bd8-9985-04859f1439c2",
       "rows": [
        [
         "2217",
         "Harold Miner",
         "196.0",
         "95.0",
         "1971.0"
        ],
        [
         "2220",
         "Tracy Murray",
         "201.0",
         "102.0",
         "1971.0"
        ],
        [
         "2222",
         "Shaquille O'Neal*",
         "216.0",
         "147.0",
         "1972.0"
        ],
        [
         "2246",
         "Vin Baker",
         "211.0",
         "105.0",
         "1971.0"
        ],
        [
         "2248",
         "Shawn Bradley",
         "229.0",
         "106.0",
         "1972.0"
        ],
        [
         "2249",
         "P.J. Brown",
         "229.0",
         "106.0",
         "1972.0"
        ],
        [
         "2250",
         "Evers Burns",
         "203.0",
         "117.0",
         "1971.0"
        ],
        [
         "2251",
         "Scott Burrell",
         "201.0",
         "98.0",
         "1971.0"
        ],
        [
         "2254",
         "Calbert Cheaney",
         "201.0",
         "94.0",
         "1971.0"
        ],
        [
         "2258",
         "Terry Dehere",
         "188.0",
         "86.0",
         "1971.0"
        ]
       ],
       "shape": {
        "columns": 4,
        "rows": 10
       }
      },
      "text/html": [
       "<div>\n",
       "<style scoped>\n",
       "    .dataframe tbody tr th:only-of-type {\n",
       "        vertical-align: middle;\n",
       "    }\n",
       "\n",
       "    .dataframe tbody tr th {\n",
       "        vertical-align: top;\n",
       "    }\n",
       "\n",
       "    .dataframe thead th {\n",
       "        text-align: right;\n",
       "    }\n",
       "</style>\n",
       "<table border=\"1\" class=\"dataframe\">\n",
       "  <thead>\n",
       "    <tr style=\"text-align: right;\">\n",
       "      <th></th>\n",
       "      <th>Player</th>\n",
       "      <th>height</th>\n",
       "      <th>weight</th>\n",
       "      <th>born</th>\n",
       "    </tr>\n",
       "  </thead>\n",
       "  <tbody>\n",
       "    <tr>\n",
       "      <th>2217</th>\n",
       "      <td>Harold Miner</td>\n",
       "      <td>196.0</td>\n",
       "      <td>95.0</td>\n",
       "      <td>1971.0</td>\n",
       "    </tr>\n",
       "    <tr>\n",
       "      <th>2220</th>\n",
       "      <td>Tracy Murray</td>\n",
       "      <td>201.0</td>\n",
       "      <td>102.0</td>\n",
       "      <td>1971.0</td>\n",
       "    </tr>\n",
       "    <tr>\n",
       "      <th>2222</th>\n",
       "      <td>Shaquille O'Neal*</td>\n",
       "      <td>216.0</td>\n",
       "      <td>147.0</td>\n",
       "      <td>1972.0</td>\n",
       "    </tr>\n",
       "    <tr>\n",
       "      <th>2246</th>\n",
       "      <td>Vin Baker</td>\n",
       "      <td>211.0</td>\n",
       "      <td>105.0</td>\n",
       "      <td>1971.0</td>\n",
       "    </tr>\n",
       "    <tr>\n",
       "      <th>2248</th>\n",
       "      <td>Shawn Bradley</td>\n",
       "      <td>229.0</td>\n",
       "      <td>106.0</td>\n",
       "      <td>1972.0</td>\n",
       "    </tr>\n",
       "    <tr>\n",
       "      <th>2249</th>\n",
       "      <td>P.J. Brown</td>\n",
       "      <td>229.0</td>\n",
       "      <td>106.0</td>\n",
       "      <td>1972.0</td>\n",
       "    </tr>\n",
       "    <tr>\n",
       "      <th>2250</th>\n",
       "      <td>Evers Burns</td>\n",
       "      <td>203.0</td>\n",
       "      <td>117.0</td>\n",
       "      <td>1971.0</td>\n",
       "    </tr>\n",
       "    <tr>\n",
       "      <th>2251</th>\n",
       "      <td>Scott Burrell</td>\n",
       "      <td>201.0</td>\n",
       "      <td>98.0</td>\n",
       "      <td>1971.0</td>\n",
       "    </tr>\n",
       "    <tr>\n",
       "      <th>2254</th>\n",
       "      <td>Calbert Cheaney</td>\n",
       "      <td>201.0</td>\n",
       "      <td>94.0</td>\n",
       "      <td>1971.0</td>\n",
       "    </tr>\n",
       "    <tr>\n",
       "      <th>2258</th>\n",
       "      <td>Terry Dehere</td>\n",
       "      <td>188.0</td>\n",
       "      <td>86.0</td>\n",
       "      <td>1971.0</td>\n",
       "    </tr>\n",
       "  </tbody>\n",
       "</table>\n",
       "</div>"
      ],
      "text/plain": [
       "                 Player  height  weight    born\n",
       "2217       Harold Miner   196.0    95.0  1971.0\n",
       "2220       Tracy Murray   201.0   102.0  1971.0\n",
       "2222  Shaquille O'Neal*   216.0   147.0  1972.0\n",
       "2246          Vin Baker   211.0   105.0  1971.0\n",
       "2248      Shawn Bradley   229.0   106.0  1972.0\n",
       "2249         P.J. Brown   229.0   106.0  1972.0\n",
       "2250        Evers Burns   203.0   117.0  1971.0\n",
       "2251      Scott Burrell   201.0    98.0  1971.0\n",
       "2254    Calbert Cheaney   201.0    94.0  1971.0\n",
       "2258       Terry Dehere   188.0    86.0  1971.0"
      ]
     },
     "execution_count": 19,
     "metadata": {},
     "output_type": "execute_result"
    }
   ],
   "source": [
    "after_1970 = df['born'] > 1970\n",
    "df[after_1970].loc[::,['Player','height','weight','born']]. head(10)"
   ]
  }
 ],
 "metadata": {
  "kernelspec": {
   "display_name": "Python 3",
   "language": "python",
   "name": "python3"
  },
  "language_info": {
   "codemirror_mode": {
    "name": "ipython",
    "version": 3
   },
   "file_extension": ".py",
   "mimetype": "text/x-python",
   "name": "python",
   "nbconvert_exporter": "python",
   "pygments_lexer": "ipython3",
   "version": "3.12.6"
  }
 },
 "nbformat": 4,
 "nbformat_minor": 2
}
