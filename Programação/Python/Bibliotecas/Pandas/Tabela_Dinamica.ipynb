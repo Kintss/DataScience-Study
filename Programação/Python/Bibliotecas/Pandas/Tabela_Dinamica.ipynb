{
 "cells": [
  {
   "cell_type": "code",
   "execution_count": 36,
   "metadata": {},
   "outputs": [
    {
     "data": {
      "application/vnd.microsoft.datawrangler.viewer.v0+json": {
       "columns": [
        {
         "name": "index",
         "rawType": "int64",
         "type": "integer"
        },
        {
         "name": "Empresa",
         "rawType": "object",
         "type": "string"
        },
        {
         "name": "Ticker",
         "rawType": "object",
         "type": "string"
        },
        {
         "name": "Preço Atual (USD)",
         "rawType": "float64",
         "type": "float"
        },
        {
         "name": "Variação (%)",
         "rawType": "float64",
         "type": "float"
        },
        {
         "name": "Volume Médio (Mil)",
         "rawType": "int64",
         "type": "integer"
        },
        {
         "name": "P/E Ratio",
         "rawType": "float64",
         "type": "float"
        },
        {
         "name": "Setor",
         "rawType": "object",
         "type": "string"
        }
       ],
       "conversionMethod": "pd.DataFrame",
       "ref": "b1dc3b56-52b2-4452-a7b4-93016bdce3a4",
       "rows": [
        [
         "0",
         "Alpha Corp",
         "ACOR",
         "50.25",
         "0.5",
         "300",
         "15.2",
         "Tecnologia"
        ],
        [
         "1",
         "Beta Industries",
         "BIND",
         "35.8",
         "-0.8",
         "150",
         "10.5",
         "Manufatura"
        ],
        [
         "2",
         "Gamma Innovations",
         "GINN",
         "65.4",
         "1.2",
         "200",
         "18.3",
         "Saúde"
        ],
        [
         "3",
         "Delta Tech",
         "DELT",
         "80.15",
         "0.3",
         "400",
         "22.8",
         "Tecnologia"
        ],
        [
         "4",
         "Epsilon Energy",
         "ENE",
         "45.6",
         "-0.6",
         "250",
         "12.9",
         "Energia"
        ]
       ],
       "shape": {
        "columns": 7,
        "rows": 5
       }
      },
      "text/html": [
       "<div>\n",
       "<style scoped>\n",
       "    .dataframe tbody tr th:only-of-type {\n",
       "        vertical-align: middle;\n",
       "    }\n",
       "\n",
       "    .dataframe tbody tr th {\n",
       "        vertical-align: top;\n",
       "    }\n",
       "\n",
       "    .dataframe thead th {\n",
       "        text-align: right;\n",
       "    }\n",
       "</style>\n",
       "<table border=\"1\" class=\"dataframe\">\n",
       "  <thead>\n",
       "    <tr style=\"text-align: right;\">\n",
       "      <th></th>\n",
       "      <th>Empresa</th>\n",
       "      <th>Ticker</th>\n",
       "      <th>Preço Atual (USD)</th>\n",
       "      <th>Variação (%)</th>\n",
       "      <th>Volume Médio (Mil)</th>\n",
       "      <th>P/E Ratio</th>\n",
       "      <th>Setor</th>\n",
       "    </tr>\n",
       "  </thead>\n",
       "  <tbody>\n",
       "    <tr>\n",
       "      <th>0</th>\n",
       "      <td>Alpha Corp</td>\n",
       "      <td>ACOR</td>\n",
       "      <td>50.25</td>\n",
       "      <td>0.5</td>\n",
       "      <td>300</td>\n",
       "      <td>15.2</td>\n",
       "      <td>Tecnologia</td>\n",
       "    </tr>\n",
       "    <tr>\n",
       "      <th>1</th>\n",
       "      <td>Beta Industries</td>\n",
       "      <td>BIND</td>\n",
       "      <td>35.80</td>\n",
       "      <td>-0.8</td>\n",
       "      <td>150</td>\n",
       "      <td>10.5</td>\n",
       "      <td>Manufatura</td>\n",
       "    </tr>\n",
       "    <tr>\n",
       "      <th>2</th>\n",
       "      <td>Gamma Innovations</td>\n",
       "      <td>GINN</td>\n",
       "      <td>65.40</td>\n",
       "      <td>1.2</td>\n",
       "      <td>200</td>\n",
       "      <td>18.3</td>\n",
       "      <td>Saúde</td>\n",
       "    </tr>\n",
       "    <tr>\n",
       "      <th>3</th>\n",
       "      <td>Delta Tech</td>\n",
       "      <td>DELT</td>\n",
       "      <td>80.15</td>\n",
       "      <td>0.3</td>\n",
       "      <td>400</td>\n",
       "      <td>22.8</td>\n",
       "      <td>Tecnologia</td>\n",
       "    </tr>\n",
       "    <tr>\n",
       "      <th>4</th>\n",
       "      <td>Epsilon Energy</td>\n",
       "      <td>ENE</td>\n",
       "      <td>45.60</td>\n",
       "      <td>-0.6</td>\n",
       "      <td>250</td>\n",
       "      <td>12.9</td>\n",
       "      <td>Energia</td>\n",
       "    </tr>\n",
       "  </tbody>\n",
       "</table>\n",
       "</div>"
      ],
      "text/plain": [
       "             Empresa Ticker  Preço Atual (USD)  Variação (%)  \\\n",
       "0         Alpha Corp   ACOR              50.25           0.5   \n",
       "1    Beta Industries   BIND              35.80          -0.8   \n",
       "2  Gamma Innovations   GINN              65.40           1.2   \n",
       "3         Delta Tech   DELT              80.15           0.3   \n",
       "4     Epsilon Energy    ENE              45.60          -0.6   \n",
       "\n",
       "   Volume Médio (Mil)  P/E Ratio       Setor  \n",
       "0                 300       15.2  Tecnologia  \n",
       "1                 150       10.5  Manufatura  \n",
       "2                 200       18.3       Saúde  \n",
       "3                 400       22.8  Tecnologia  \n",
       "4                 250       12.9     Energia  "
      ]
     },
     "execution_count": 36,
     "metadata": {},
     "output_type": "execute_result"
    }
   ],
   "source": [
    "import pandas as pd\n",
    "import numpy as np\n",
    "\n",
    "file = 'Empresas_dataset.xlsx'\n",
    "df = pd.read_excel(file)\n",
    "df.head(5)"
   ]
  },
  {
   "cell_type": "code",
   "execution_count": 11,
   "metadata": {},
   "outputs": [
    {
     "data": {
      "text/plain": [
       "Index(['Empresa', 'Ticker', 'Preço Atual (USD)', 'Variação (%)',\n",
       "       'Volume Médio (Mil)', 'P/E Ratio', 'Setor'],\n",
       "      dtype='object')"
      ]
     },
     "execution_count": 11,
     "metadata": {},
     "output_type": "execute_result"
    }
   ],
   "source": [
    "df.columns"
   ]
  },
  {
   "cell_type": "code",
   "execution_count": null,
   "metadata": {},
   "outputs": [
    {
     "data": {
      "application/vnd.microsoft.datawrangler.viewer.v0+json": {
       "columns": [
        {
         "name": "Ticker",
         "rawType": "object",
         "type": "string"
        },
        {
         "name": "Preço Atual (USD)",
         "rawType": "float64",
         "type": "float"
        }
       ],
       "conversionMethod": "pd.DataFrame",
       "ref": "e191c4fb-415c-40f2-b270-2cb8700f8f9d",
       "rows": [
        [
         "ACOR",
         "50.25"
        ],
        [
         "BIND",
         "35.8"
        ],
        [
         "CHIC",
         "52.15"
        ],
        [
         "DELT",
         "160.3"
        ],
        [
         "ENE",
         "45.6"
        ],
        [
         "ETAM",
         "141.8"
        ],
        [
         "GINN",
         "65.4"
        ],
        [
         "IOTA",
         "80.4"
        ],
        [
         "KAP",
         "97.5"
        ],
        [
         "LLO",
         "114.2"
        ],
        [
         "MUM",
         "84.6"
        ],
        [
         "NUP",
         "151.0"
        ],
        [
         "OMEO",
         "65.9"
        ],
        [
         "OMIO",
         "137.6"
        ],
        [
         "PHIP",
         "89.6"
        ],
        [
         "PPOW",
         "95.8"
        ],
        [
         "PSIP",
         "72.1"
        ],
        [
         "RHOR",
         "79.2"
        ],
        [
         "SIG",
         "106.5"
        ],
        [
         "TELC",
         "121.4"
        ],
        [
         "THTR",
         "124.6"
        ],
        [
         "UTIL",
         "156.8"
        ],
        [
         "XIS",
         "110.4"
        ],
        [
         "ZFDS",
         "111.5"
        ]
       ],
       "shape": {
        "columns": 1,
        "rows": 24
       }
      },
      "text/html": [
       "<div>\n",
       "<style scoped>\n",
       "    .dataframe tbody tr th:only-of-type {\n",
       "        vertical-align: middle;\n",
       "    }\n",
       "\n",
       "    .dataframe tbody tr th {\n",
       "        vertical-align: top;\n",
       "    }\n",
       "\n",
       "    .dataframe thead th {\n",
       "        text-align: right;\n",
       "    }\n",
       "</style>\n",
       "<table border=\"1\" class=\"dataframe\">\n",
       "  <thead>\n",
       "    <tr style=\"text-align: right;\">\n",
       "      <th></th>\n",
       "      <th>Preço Atual (USD)</th>\n",
       "    </tr>\n",
       "    <tr>\n",
       "      <th>Ticker</th>\n",
       "      <th></th>\n",
       "    </tr>\n",
       "  </thead>\n",
       "  <tbody>\n",
       "    <tr>\n",
       "      <th>ACOR</th>\n",
       "      <td>50.25</td>\n",
       "    </tr>\n",
       "    <tr>\n",
       "      <th>BIND</th>\n",
       "      <td>35.80</td>\n",
       "    </tr>\n",
       "    <tr>\n",
       "      <th>CHIC</th>\n",
       "      <td>52.15</td>\n",
       "    </tr>\n",
       "    <tr>\n",
       "      <th>DELT</th>\n",
       "      <td>160.30</td>\n",
       "    </tr>\n",
       "    <tr>\n",
       "      <th>ENE</th>\n",
       "      <td>45.60</td>\n",
       "    </tr>\n",
       "    <tr>\n",
       "      <th>ETAM</th>\n",
       "      <td>141.80</td>\n",
       "    </tr>\n",
       "    <tr>\n",
       "      <th>GINN</th>\n",
       "      <td>65.40</td>\n",
       "    </tr>\n",
       "    <tr>\n",
       "      <th>IOTA</th>\n",
       "      <td>80.40</td>\n",
       "    </tr>\n",
       "    <tr>\n",
       "      <th>KAP</th>\n",
       "      <td>97.50</td>\n",
       "    </tr>\n",
       "    <tr>\n",
       "      <th>LLO</th>\n",
       "      <td>114.20</td>\n",
       "    </tr>\n",
       "    <tr>\n",
       "      <th>MUM</th>\n",
       "      <td>84.60</td>\n",
       "    </tr>\n",
       "    <tr>\n",
       "      <th>NUP</th>\n",
       "      <td>151.00</td>\n",
       "    </tr>\n",
       "    <tr>\n",
       "      <th>OMEO</th>\n",
       "      <td>65.90</td>\n",
       "    </tr>\n",
       "    <tr>\n",
       "      <th>OMIO</th>\n",
       "      <td>137.60</td>\n",
       "    </tr>\n",
       "    <tr>\n",
       "      <th>PHIP</th>\n",
       "      <td>89.60</td>\n",
       "    </tr>\n",
       "    <tr>\n",
       "      <th>PPOW</th>\n",
       "      <td>95.80</td>\n",
       "    </tr>\n",
       "    <tr>\n",
       "      <th>PSIP</th>\n",
       "      <td>72.10</td>\n",
       "    </tr>\n",
       "    <tr>\n",
       "      <th>RHOR</th>\n",
       "      <td>79.20</td>\n",
       "    </tr>\n",
       "    <tr>\n",
       "      <th>SIG</th>\n",
       "      <td>106.50</td>\n",
       "    </tr>\n",
       "    <tr>\n",
       "      <th>TELC</th>\n",
       "      <td>121.40</td>\n",
       "    </tr>\n",
       "    <tr>\n",
       "      <th>THTR</th>\n",
       "      <td>124.60</td>\n",
       "    </tr>\n",
       "    <tr>\n",
       "      <th>UTIL</th>\n",
       "      <td>156.80</td>\n",
       "    </tr>\n",
       "    <tr>\n",
       "      <th>XIS</th>\n",
       "      <td>110.40</td>\n",
       "    </tr>\n",
       "    <tr>\n",
       "      <th>ZFDS</th>\n",
       "      <td>111.50</td>\n",
       "    </tr>\n",
       "  </tbody>\n",
       "</table>\n",
       "</div>"
      ],
      "text/plain": [
       "        Preço Atual (USD)\n",
       "Ticker                   \n",
       "ACOR                50.25\n",
       "BIND                35.80\n",
       "CHIC                52.15\n",
       "DELT               160.30\n",
       "ENE                 45.60\n",
       "ETAM               141.80\n",
       "GINN                65.40\n",
       "IOTA                80.40\n",
       "KAP                 97.50\n",
       "LLO                114.20\n",
       "MUM                 84.60\n",
       "NUP                151.00\n",
       "OMEO                65.90\n",
       "OMIO               137.60\n",
       "PHIP                89.60\n",
       "PPOW                95.80\n",
       "PSIP                72.10\n",
       "RHOR                79.20\n",
       "SIG                106.50\n",
       "TELC               121.40\n",
       "THTR               124.60\n",
       "UTIL               156.80\n",
       "XIS                110.40\n",
       "ZFDS               111.50"
      ]
     },
     "execution_count": 22,
     "metadata": {},
     "output_type": "execute_result"
    }
   ],
   "source": [
    "pd.pivot_table(df, index = 'Ticker', values='Preço Atual (USD)' , aggfunc='sum')"
   ]
  },
  {
   "cell_type": "code",
   "execution_count": 26,
   "metadata": {},
   "outputs": [
    {
     "data": {
      "application/vnd.microsoft.datawrangler.viewer.v0+json": {
       "columns": [
        {
         "name": "index",
         "rawType": "int64",
         "type": "integer"
        },
        {
         "name": "Empresa",
         "rawType": "object",
         "type": "string"
        },
        {
         "name": "Ticker",
         "rawType": "object",
         "type": "string"
        },
        {
         "name": "Preço Atual (USD)",
         "rawType": "float64",
         "type": "float"
        },
        {
         "name": "Variação (%)",
         "rawType": "float64",
         "type": "float"
        },
        {
         "name": "Volume Médio (Mil)",
         "rawType": "int64",
         "type": "integer"
        },
        {
         "name": "P/E Ratio",
         "rawType": "float64",
         "type": "float"
        },
        {
         "name": "Setor",
         "rawType": "object",
         "type": "string"
        },
        {
         "name": "valor_total",
         "rawType": "float64",
         "type": "float"
        }
       ],
       "conversionMethod": "pd.DataFrame",
       "ref": "c1c24535-5b1c-42e4-8b69-824bbaa757a6",
       "rows": [
        [
         "0",
         "Alpha Corp",
         "ACOR",
         "50.25",
         "0.5",
         "300",
         "15.2",
         "Tecnologia",
         "15075.0"
        ],
        [
         "1",
         "Beta Industries",
         "BIND",
         "35.8",
         "-0.8",
         "150",
         "10.5",
         "Manufatura",
         "5370.0"
        ],
        [
         "2",
         "Gamma Innovations",
         "GINN",
         "65.4",
         "1.2",
         "200",
         "18.3",
         "Saúde",
         "13080.000000000002"
        ]
       ],
       "shape": {
        "columns": 8,
        "rows": 3
       }
      },
      "text/html": [
       "<div>\n",
       "<style scoped>\n",
       "    .dataframe tbody tr th:only-of-type {\n",
       "        vertical-align: middle;\n",
       "    }\n",
       "\n",
       "    .dataframe tbody tr th {\n",
       "        vertical-align: top;\n",
       "    }\n",
       "\n",
       "    .dataframe thead th {\n",
       "        text-align: right;\n",
       "    }\n",
       "</style>\n",
       "<table border=\"1\" class=\"dataframe\">\n",
       "  <thead>\n",
       "    <tr style=\"text-align: right;\">\n",
       "      <th></th>\n",
       "      <th>Empresa</th>\n",
       "      <th>Ticker</th>\n",
       "      <th>Preço Atual (USD)</th>\n",
       "      <th>Variação (%)</th>\n",
       "      <th>Volume Médio (Mil)</th>\n",
       "      <th>P/E Ratio</th>\n",
       "      <th>Setor</th>\n",
       "      <th>valor_total</th>\n",
       "    </tr>\n",
       "  </thead>\n",
       "  <tbody>\n",
       "    <tr>\n",
       "      <th>0</th>\n",
       "      <td>Alpha Corp</td>\n",
       "      <td>ACOR</td>\n",
       "      <td>50.25</td>\n",
       "      <td>0.5</td>\n",
       "      <td>300</td>\n",
       "      <td>15.2</td>\n",
       "      <td>Tecnologia</td>\n",
       "      <td>15075.0</td>\n",
       "    </tr>\n",
       "    <tr>\n",
       "      <th>1</th>\n",
       "      <td>Beta Industries</td>\n",
       "      <td>BIND</td>\n",
       "      <td>35.80</td>\n",
       "      <td>-0.8</td>\n",
       "      <td>150</td>\n",
       "      <td>10.5</td>\n",
       "      <td>Manufatura</td>\n",
       "      <td>5370.0</td>\n",
       "    </tr>\n",
       "    <tr>\n",
       "      <th>2</th>\n",
       "      <td>Gamma Innovations</td>\n",
       "      <td>GINN</td>\n",
       "      <td>65.40</td>\n",
       "      <td>1.2</td>\n",
       "      <td>200</td>\n",
       "      <td>18.3</td>\n",
       "      <td>Saúde</td>\n",
       "      <td>13080.0</td>\n",
       "    </tr>\n",
       "  </tbody>\n",
       "</table>\n",
       "</div>"
      ],
      "text/plain": [
       "             Empresa Ticker  Preço Atual (USD)  Variação (%)  \\\n",
       "0         Alpha Corp   ACOR              50.25           0.5   \n",
       "1    Beta Industries   BIND              35.80          -0.8   \n",
       "2  Gamma Innovations   GINN              65.40           1.2   \n",
       "\n",
       "   Volume Médio (Mil)  P/E Ratio       Setor  valor_total  \n",
       "0                 300       15.2  Tecnologia      15075.0  \n",
       "1                 150       10.5  Manufatura       5370.0  \n",
       "2                 200       18.3       Saúde      13080.0  "
      ]
     },
     "execution_count": 26,
     "metadata": {},
     "output_type": "execute_result"
    }
   ],
   "source": [
    "df['valor_total'] = df['Preço Atual (USD)'] * df['Volume Médio (Mil)']\n",
    "df.head(3)"
   ]
  },
  {
   "cell_type": "code",
   "execution_count": 28,
   "metadata": {},
   "outputs": [
    {
     "data": {
      "application/vnd.microsoft.datawrangler.viewer.v0+json": {
       "columns": [
        {
         "name": "Ticker",
         "rawType": "object",
         "type": "string"
        },
        {
         "name": "Preço Atual (USD)",
         "rawType": "float64",
         "type": "float"
        },
        {
         "name": "valor_total",
         "rawType": "float64",
         "type": "float"
        }
       ],
       "conversionMethod": "pd.DataFrame",
       "ref": "ec4c837b-4b4d-4c42-95de-aedb6c6913b6",
       "rows": [
        [
         "ACOR",
         "50.25",
         "15075.0"
        ],
        [
         "BIND",
         "35.8",
         "5370.0"
        ],
        [
         "CHIC",
         "52.15",
         "14080.5"
        ],
        [
         "DELT",
         "160.3",
         "64120.00000000001"
        ],
        [
         "ENE",
         "45.6",
         "11400.0"
        ],
        [
         "ETAM",
         "141.8",
         "31196.000000000004"
        ],
        [
         "GINN",
         "65.4",
         "13080.000000000002"
        ],
        [
         "IOTA",
         "80.4",
         "25728.0"
        ],
        [
         "KAP",
         "97.5",
         "18525.0"
        ],
        [
         "LLO",
         "114.2",
         "30834.0"
        ],
        [
         "MUM",
         "84.6",
         "12690.0"
        ],
        [
         "NUP",
         "151.0",
         "52850.0"
        ],
        [
         "OMEO",
         "65.9",
         "25042.000000000004"
        ],
        [
         "OMIO",
         "137.6",
         "57792.0"
        ],
        [
         "PHIP",
         "89.6",
         "18816.0"
        ],
        [
         "PPOW",
         "95.8",
         "27782.0"
        ],
        [
         "PSIP",
         "72.1",
         "24513.999999999996"
        ],
        [
         "RHOR",
         "79.2",
         "14256.0"
        ],
        [
         "SIG",
         "106.5",
         "24495.0"
        ],
        [
         "TELC",
         "121.4",
         "38848.0"
        ],
        [
         "THTR",
         "124.6",
         "34888.0"
        ],
        [
         "UTIL",
         "156.8",
         "62720.00000000001"
        ],
        [
         "XIS",
         "110.4",
         "30912.0"
        ],
        [
         "ZFDS",
         "111.5",
         "20070.0"
        ]
       ],
       "shape": {
        "columns": 2,
        "rows": 24
       }
      },
      "text/html": [
       "<div>\n",
       "<style scoped>\n",
       "    .dataframe tbody tr th:only-of-type {\n",
       "        vertical-align: middle;\n",
       "    }\n",
       "\n",
       "    .dataframe tbody tr th {\n",
       "        vertical-align: top;\n",
       "    }\n",
       "\n",
       "    .dataframe thead th {\n",
       "        text-align: right;\n",
       "    }\n",
       "</style>\n",
       "<table border=\"1\" class=\"dataframe\">\n",
       "  <thead>\n",
       "    <tr style=\"text-align: right;\">\n",
       "      <th></th>\n",
       "      <th>Preço Atual (USD)</th>\n",
       "      <th>valor_total</th>\n",
       "    </tr>\n",
       "    <tr>\n",
       "      <th>Ticker</th>\n",
       "      <th></th>\n",
       "      <th></th>\n",
       "    </tr>\n",
       "  </thead>\n",
       "  <tbody>\n",
       "    <tr>\n",
       "      <th>ACOR</th>\n",
       "      <td>50.25</td>\n",
       "      <td>15075.0</td>\n",
       "    </tr>\n",
       "    <tr>\n",
       "      <th>BIND</th>\n",
       "      <td>35.80</td>\n",
       "      <td>5370.0</td>\n",
       "    </tr>\n",
       "    <tr>\n",
       "      <th>CHIC</th>\n",
       "      <td>52.15</td>\n",
       "      <td>14080.5</td>\n",
       "    </tr>\n",
       "    <tr>\n",
       "      <th>DELT</th>\n",
       "      <td>160.30</td>\n",
       "      <td>64120.0</td>\n",
       "    </tr>\n",
       "    <tr>\n",
       "      <th>ENE</th>\n",
       "      <td>45.60</td>\n",
       "      <td>11400.0</td>\n",
       "    </tr>\n",
       "    <tr>\n",
       "      <th>ETAM</th>\n",
       "      <td>141.80</td>\n",
       "      <td>31196.0</td>\n",
       "    </tr>\n",
       "    <tr>\n",
       "      <th>GINN</th>\n",
       "      <td>65.40</td>\n",
       "      <td>13080.0</td>\n",
       "    </tr>\n",
       "    <tr>\n",
       "      <th>IOTA</th>\n",
       "      <td>80.40</td>\n",
       "      <td>25728.0</td>\n",
       "    </tr>\n",
       "    <tr>\n",
       "      <th>KAP</th>\n",
       "      <td>97.50</td>\n",
       "      <td>18525.0</td>\n",
       "    </tr>\n",
       "    <tr>\n",
       "      <th>LLO</th>\n",
       "      <td>114.20</td>\n",
       "      <td>30834.0</td>\n",
       "    </tr>\n",
       "    <tr>\n",
       "      <th>MUM</th>\n",
       "      <td>84.60</td>\n",
       "      <td>12690.0</td>\n",
       "    </tr>\n",
       "    <tr>\n",
       "      <th>NUP</th>\n",
       "      <td>151.00</td>\n",
       "      <td>52850.0</td>\n",
       "    </tr>\n",
       "    <tr>\n",
       "      <th>OMEO</th>\n",
       "      <td>65.90</td>\n",
       "      <td>25042.0</td>\n",
       "    </tr>\n",
       "    <tr>\n",
       "      <th>OMIO</th>\n",
       "      <td>137.60</td>\n",
       "      <td>57792.0</td>\n",
       "    </tr>\n",
       "    <tr>\n",
       "      <th>PHIP</th>\n",
       "      <td>89.60</td>\n",
       "      <td>18816.0</td>\n",
       "    </tr>\n",
       "    <tr>\n",
       "      <th>PPOW</th>\n",
       "      <td>95.80</td>\n",
       "      <td>27782.0</td>\n",
       "    </tr>\n",
       "    <tr>\n",
       "      <th>PSIP</th>\n",
       "      <td>72.10</td>\n",
       "      <td>24514.0</td>\n",
       "    </tr>\n",
       "    <tr>\n",
       "      <th>RHOR</th>\n",
       "      <td>79.20</td>\n",
       "      <td>14256.0</td>\n",
       "    </tr>\n",
       "    <tr>\n",
       "      <th>SIG</th>\n",
       "      <td>106.50</td>\n",
       "      <td>24495.0</td>\n",
       "    </tr>\n",
       "    <tr>\n",
       "      <th>TELC</th>\n",
       "      <td>121.40</td>\n",
       "      <td>38848.0</td>\n",
       "    </tr>\n",
       "    <tr>\n",
       "      <th>THTR</th>\n",
       "      <td>124.60</td>\n",
       "      <td>34888.0</td>\n",
       "    </tr>\n",
       "    <tr>\n",
       "      <th>UTIL</th>\n",
       "      <td>156.80</td>\n",
       "      <td>62720.0</td>\n",
       "    </tr>\n",
       "    <tr>\n",
       "      <th>XIS</th>\n",
       "      <td>110.40</td>\n",
       "      <td>30912.0</td>\n",
       "    </tr>\n",
       "    <tr>\n",
       "      <th>ZFDS</th>\n",
       "      <td>111.50</td>\n",
       "      <td>20070.0</td>\n",
       "    </tr>\n",
       "  </tbody>\n",
       "</table>\n",
       "</div>"
      ],
      "text/plain": [
       "        Preço Atual (USD)  valor_total\n",
       "Ticker                                \n",
       "ACOR                50.25      15075.0\n",
       "BIND                35.80       5370.0\n",
       "CHIC                52.15      14080.5\n",
       "DELT               160.30      64120.0\n",
       "ENE                 45.60      11400.0\n",
       "ETAM               141.80      31196.0\n",
       "GINN                65.40      13080.0\n",
       "IOTA                80.40      25728.0\n",
       "KAP                 97.50      18525.0\n",
       "LLO                114.20      30834.0\n",
       "MUM                 84.60      12690.0\n",
       "NUP                151.00      52850.0\n",
       "OMEO                65.90      25042.0\n",
       "OMIO               137.60      57792.0\n",
       "PHIP                89.60      18816.0\n",
       "PPOW                95.80      27782.0\n",
       "PSIP                72.10      24514.0\n",
       "RHOR                79.20      14256.0\n",
       "SIG                106.50      24495.0\n",
       "TELC               121.40      38848.0\n",
       "THTR               124.60      34888.0\n",
       "UTIL               156.80      62720.0\n",
       "XIS                110.40      30912.0\n",
       "ZFDS               111.50      20070.0"
      ]
     },
     "execution_count": 28,
     "metadata": {},
     "output_type": "execute_result"
    }
   ],
   "source": [
    "soma_qnt_valor = pd.pivot_table(df, index= 'Ticker', values= ['Preço Atual (USD)', 'valor_total'], aggfunc='sum')\n",
    "soma_qnt_valor"
   ]
  },
  {
   "cell_type": "code",
   "execution_count": 33,
   "metadata": {},
   "outputs": [
    {
     "data": {
      "application/vnd.microsoft.datawrangler.viewer.v0+json": {
       "columns": [
        {
         "name": "Ticker",
         "rawType": "object",
         "type": "string"
        },
        {
         "name": "Preço Atual (USD)",
         "rawType": "float64",
         "type": "float"
        },
        {
         "name": "valor_total",
         "rawType": "float64",
         "type": "float"
        },
        {
         "name": "pmedio",
         "rawType": "float64",
         "type": "float"
        }
       ],
       "conversionMethod": "pd.DataFrame",
       "ref": "fd78c28f-42ba-4c2d-8fad-993a021e1acf",
       "rows": [
        [
         "ACOR",
         "50.25",
         "15075.0",
         "300.0"
        ],
        [
         "BIND",
         "35.8",
         "5370.0",
         "150.0"
        ],
        [
         "CHIC",
         "52.15",
         "14080.5",
         "270.0"
        ],
        [
         "DELT",
         "160.3",
         "64120.00000000001",
         "400.0"
        ],
        [
         "ENE",
         "45.6",
         "11400.0",
         "250.0"
        ],
        [
         "ETAM",
         "141.8",
         "31196.000000000004",
         "220.0"
        ],
        [
         "GINN",
         "65.4",
         "13080.000000000002",
         "200.0"
        ],
        [
         "IOTA",
         "80.4",
         "25728.0",
         "320.0"
        ],
        [
         "KAP",
         "97.5",
         "18525.0",
         "190.0"
        ],
        [
         "LLO",
         "114.2",
         "30834.0",
         "270.0"
        ],
        [
         "MUM",
         "84.6",
         "12690.0",
         "150.0"
        ],
        [
         "NUP",
         "151.0",
         "52850.0",
         "350.0"
        ],
        [
         "OMEO",
         "65.9",
         "25042.000000000004",
         "380.0"
        ],
        [
         "OMIO",
         "137.6",
         "57792.0",
         "420.0"
        ],
        [
         "PHIP",
         "89.6",
         "18816.0",
         "210.0"
        ],
        [
         "PPOW",
         "95.8",
         "27782.0",
         "290.0"
        ],
        [
         "PSIP",
         "72.1",
         "24513.999999999996",
         "340.0"
        ],
        [
         "RHOR",
         "79.2",
         "14256.0",
         "180.0"
        ],
        [
         "SIG",
         "106.5",
         "24495.0",
         "230.0"
        ],
        [
         "TELC",
         "121.4",
         "38848.0",
         "320.0"
        ],
        [
         "THTR",
         "124.6",
         "34888.0",
         "280.0"
        ],
        [
         "UTIL",
         "156.8",
         "62720.00000000001",
         "400.0"
        ],
        [
         "XIS",
         "110.4",
         "30912.0",
         "280.0"
        ],
        [
         "ZFDS",
         "111.5",
         "20070.0",
         "180.0"
        ]
       ],
       "shape": {
        "columns": 3,
        "rows": 24
       }
      },
      "text/html": [
       "<div>\n",
       "<style scoped>\n",
       "    .dataframe tbody tr th:only-of-type {\n",
       "        vertical-align: middle;\n",
       "    }\n",
       "\n",
       "    .dataframe tbody tr th {\n",
       "        vertical-align: top;\n",
       "    }\n",
       "\n",
       "    .dataframe thead th {\n",
       "        text-align: right;\n",
       "    }\n",
       "</style>\n",
       "<table border=\"1\" class=\"dataframe\">\n",
       "  <thead>\n",
       "    <tr style=\"text-align: right;\">\n",
       "      <th></th>\n",
       "      <th>Preço Atual (USD)</th>\n",
       "      <th>valor_total</th>\n",
       "      <th>pmedio</th>\n",
       "    </tr>\n",
       "    <tr>\n",
       "      <th>Ticker</th>\n",
       "      <th></th>\n",
       "      <th></th>\n",
       "      <th></th>\n",
       "    </tr>\n",
       "  </thead>\n",
       "  <tbody>\n",
       "    <tr>\n",
       "      <th>ACOR</th>\n",
       "      <td>50.25</td>\n",
       "      <td>15075.0</td>\n",
       "      <td>300.0</td>\n",
       "    </tr>\n",
       "    <tr>\n",
       "      <th>BIND</th>\n",
       "      <td>35.80</td>\n",
       "      <td>5370.0</td>\n",
       "      <td>150.0</td>\n",
       "    </tr>\n",
       "    <tr>\n",
       "      <th>CHIC</th>\n",
       "      <td>52.15</td>\n",
       "      <td>14080.5</td>\n",
       "      <td>270.0</td>\n",
       "    </tr>\n",
       "    <tr>\n",
       "      <th>DELT</th>\n",
       "      <td>160.30</td>\n",
       "      <td>64120.0</td>\n",
       "      <td>400.0</td>\n",
       "    </tr>\n",
       "    <tr>\n",
       "      <th>ENE</th>\n",
       "      <td>45.60</td>\n",
       "      <td>11400.0</td>\n",
       "      <td>250.0</td>\n",
       "    </tr>\n",
       "    <tr>\n",
       "      <th>ETAM</th>\n",
       "      <td>141.80</td>\n",
       "      <td>31196.0</td>\n",
       "      <td>220.0</td>\n",
       "    </tr>\n",
       "    <tr>\n",
       "      <th>GINN</th>\n",
       "      <td>65.40</td>\n",
       "      <td>13080.0</td>\n",
       "      <td>200.0</td>\n",
       "    </tr>\n",
       "    <tr>\n",
       "      <th>IOTA</th>\n",
       "      <td>80.40</td>\n",
       "      <td>25728.0</td>\n",
       "      <td>320.0</td>\n",
       "    </tr>\n",
       "    <tr>\n",
       "      <th>KAP</th>\n",
       "      <td>97.50</td>\n",
       "      <td>18525.0</td>\n",
       "      <td>190.0</td>\n",
       "    </tr>\n",
       "    <tr>\n",
       "      <th>LLO</th>\n",
       "      <td>114.20</td>\n",
       "      <td>30834.0</td>\n",
       "      <td>270.0</td>\n",
       "    </tr>\n",
       "    <tr>\n",
       "      <th>MUM</th>\n",
       "      <td>84.60</td>\n",
       "      <td>12690.0</td>\n",
       "      <td>150.0</td>\n",
       "    </tr>\n",
       "    <tr>\n",
       "      <th>NUP</th>\n",
       "      <td>151.00</td>\n",
       "      <td>52850.0</td>\n",
       "      <td>350.0</td>\n",
       "    </tr>\n",
       "    <tr>\n",
       "      <th>OMEO</th>\n",
       "      <td>65.90</td>\n",
       "      <td>25042.0</td>\n",
       "      <td>380.0</td>\n",
       "    </tr>\n",
       "    <tr>\n",
       "      <th>OMIO</th>\n",
       "      <td>137.60</td>\n",
       "      <td>57792.0</td>\n",
       "      <td>420.0</td>\n",
       "    </tr>\n",
       "    <tr>\n",
       "      <th>PHIP</th>\n",
       "      <td>89.60</td>\n",
       "      <td>18816.0</td>\n",
       "      <td>210.0</td>\n",
       "    </tr>\n",
       "    <tr>\n",
       "      <th>PPOW</th>\n",
       "      <td>95.80</td>\n",
       "      <td>27782.0</td>\n",
       "      <td>290.0</td>\n",
       "    </tr>\n",
       "    <tr>\n",
       "      <th>PSIP</th>\n",
       "      <td>72.10</td>\n",
       "      <td>24514.0</td>\n",
       "      <td>340.0</td>\n",
       "    </tr>\n",
       "    <tr>\n",
       "      <th>RHOR</th>\n",
       "      <td>79.20</td>\n",
       "      <td>14256.0</td>\n",
       "      <td>180.0</td>\n",
       "    </tr>\n",
       "    <tr>\n",
       "      <th>SIG</th>\n",
       "      <td>106.50</td>\n",
       "      <td>24495.0</td>\n",
       "      <td>230.0</td>\n",
       "    </tr>\n",
       "    <tr>\n",
       "      <th>TELC</th>\n",
       "      <td>121.40</td>\n",
       "      <td>38848.0</td>\n",
       "      <td>320.0</td>\n",
       "    </tr>\n",
       "    <tr>\n",
       "      <th>THTR</th>\n",
       "      <td>124.60</td>\n",
       "      <td>34888.0</td>\n",
       "      <td>280.0</td>\n",
       "    </tr>\n",
       "    <tr>\n",
       "      <th>UTIL</th>\n",
       "      <td>156.80</td>\n",
       "      <td>62720.0</td>\n",
       "      <td>400.0</td>\n",
       "    </tr>\n",
       "    <tr>\n",
       "      <th>XIS</th>\n",
       "      <td>110.40</td>\n",
       "      <td>30912.0</td>\n",
       "      <td>280.0</td>\n",
       "    </tr>\n",
       "    <tr>\n",
       "      <th>ZFDS</th>\n",
       "      <td>111.50</td>\n",
       "      <td>20070.0</td>\n",
       "      <td>180.0</td>\n",
       "    </tr>\n",
       "  </tbody>\n",
       "</table>\n",
       "</div>"
      ],
      "text/plain": [
       "        Preço Atual (USD)  valor_total  pmedio\n",
       "Ticker                                        \n",
       "ACOR                50.25      15075.0   300.0\n",
       "BIND                35.80       5370.0   150.0\n",
       "CHIC                52.15      14080.5   270.0\n",
       "DELT               160.30      64120.0   400.0\n",
       "ENE                 45.60      11400.0   250.0\n",
       "ETAM               141.80      31196.0   220.0\n",
       "GINN                65.40      13080.0   200.0\n",
       "IOTA                80.40      25728.0   320.0\n",
       "KAP                 97.50      18525.0   190.0\n",
       "LLO                114.20      30834.0   270.0\n",
       "MUM                 84.60      12690.0   150.0\n",
       "NUP                151.00      52850.0   350.0\n",
       "OMEO                65.90      25042.0   380.0\n",
       "OMIO               137.60      57792.0   420.0\n",
       "PHIP                89.60      18816.0   210.0\n",
       "PPOW                95.80      27782.0   290.0\n",
       "PSIP                72.10      24514.0   340.0\n",
       "RHOR                79.20      14256.0   180.0\n",
       "SIG                106.50      24495.0   230.0\n",
       "TELC               121.40      38848.0   320.0\n",
       "THTR               124.60      34888.0   280.0\n",
       "UTIL               156.80      62720.0   400.0\n",
       "XIS                110.40      30912.0   280.0\n",
       "ZFDS               111.50      20070.0   180.0"
      ]
     },
     "execution_count": 33,
     "metadata": {},
     "output_type": "execute_result"
    }
   ],
   "source": [
    "soma_qnt_valor['pmedio'] = soma_qnt_valor['valor_total'] / soma_qnt_valor['Preço Atual (USD)']\n",
    "soma_qnt_valor"
   ]
  },
  {
   "cell_type": "code",
   "execution_count": 31,
   "metadata": {},
   "outputs": [
    {
     "data": {
      "application/vnd.microsoft.datawrangler.viewer.v0+json": {
       "columns": [
        {
         "name": "index",
         "rawType": "object",
         "type": "string"
        },
        {
         "name": "ACOR",
         "rawType": "float64",
         "type": "float"
        },
        {
         "name": "BIND",
         "rawType": "float64",
         "type": "float"
        },
        {
         "name": "CHIC",
         "rawType": "float64",
         "type": "float"
        },
        {
         "name": "DELT",
         "rawType": "float64",
         "type": "float"
        },
        {
         "name": "ENE",
         "rawType": "float64",
         "type": "float"
        },
        {
         "name": "ETAM",
         "rawType": "float64",
         "type": "float"
        },
        {
         "name": "GINN",
         "rawType": "float64",
         "type": "float"
        },
        {
         "name": "IOTA",
         "rawType": "float64",
         "type": "float"
        },
        {
         "name": "KAP",
         "rawType": "float64",
         "type": "float"
        },
        {
         "name": "LLO",
         "rawType": "float64",
         "type": "float"
        },
        {
         "name": "MUM",
         "rawType": "float64",
         "type": "float"
        },
        {
         "name": "NUP",
         "rawType": "float64",
         "type": "float"
        },
        {
         "name": "OMEO",
         "rawType": "float64",
         "type": "float"
        },
        {
         "name": "OMIO",
         "rawType": "float64",
         "type": "float"
        },
        {
         "name": "PHIP",
         "rawType": "float64",
         "type": "float"
        },
        {
         "name": "PPOW",
         "rawType": "float64",
         "type": "float"
        },
        {
         "name": "PSIP",
         "rawType": "float64",
         "type": "float"
        },
        {
         "name": "RHOR",
         "rawType": "float64",
         "type": "float"
        },
        {
         "name": "SIG",
         "rawType": "float64",
         "type": "float"
        },
        {
         "name": "TELC",
         "rawType": "float64",
         "type": "float"
        },
        {
         "name": "THTR",
         "rawType": "float64",
         "type": "float"
        },
        {
         "name": "UTIL",
         "rawType": "float64",
         "type": "float"
        },
        {
         "name": "XIS",
         "rawType": "float64",
         "type": "float"
        },
        {
         "name": "ZFDS",
         "rawType": "float64",
         "type": "float"
        }
       ],
       "conversionMethod": "pd.DataFrame",
       "ref": "5664d0d4-7c40-4d60-87db-1204976fe84d",
       "rows": [
        [
         "Preço Atual (USD)",
         "50.25",
         "35.8",
         "52.15",
         "160.3",
         "45.6",
         "141.8",
         "65.4",
         "80.4",
         "97.5",
         "114.2",
         "84.6",
         "151.0",
         "65.9",
         "137.6",
         "89.6",
         "95.8",
         "72.1",
         "79.2",
         "106.5",
         "121.4",
         "124.6",
         "156.8",
         "110.4",
         "111.5"
        ]
       ],
       "shape": {
        "columns": 24,
        "rows": 1
       }
      },
      "text/html": [
       "<div>\n",
       "<style scoped>\n",
       "    .dataframe tbody tr th:only-of-type {\n",
       "        vertical-align: middle;\n",
       "    }\n",
       "\n",
       "    .dataframe tbody tr th {\n",
       "        vertical-align: top;\n",
       "    }\n",
       "\n",
       "    .dataframe thead th {\n",
       "        text-align: right;\n",
       "    }\n",
       "</style>\n",
       "<table border=\"1\" class=\"dataframe\">\n",
       "  <thead>\n",
       "    <tr style=\"text-align: right;\">\n",
       "      <th>Ticker</th>\n",
       "      <th>ACOR</th>\n",
       "      <th>BIND</th>\n",
       "      <th>CHIC</th>\n",
       "      <th>DELT</th>\n",
       "      <th>ENE</th>\n",
       "      <th>ETAM</th>\n",
       "      <th>GINN</th>\n",
       "      <th>IOTA</th>\n",
       "      <th>KAP</th>\n",
       "      <th>LLO</th>\n",
       "      <th>...</th>\n",
       "      <th>PHIP</th>\n",
       "      <th>PPOW</th>\n",
       "      <th>PSIP</th>\n",
       "      <th>RHOR</th>\n",
       "      <th>SIG</th>\n",
       "      <th>TELC</th>\n",
       "      <th>THTR</th>\n",
       "      <th>UTIL</th>\n",
       "      <th>XIS</th>\n",
       "      <th>ZFDS</th>\n",
       "    </tr>\n",
       "  </thead>\n",
       "  <tbody>\n",
       "    <tr>\n",
       "      <th>Preço Atual (USD)</th>\n",
       "      <td>50.25</td>\n",
       "      <td>35.8</td>\n",
       "      <td>52.15</td>\n",
       "      <td>160.3</td>\n",
       "      <td>45.6</td>\n",
       "      <td>141.8</td>\n",
       "      <td>65.4</td>\n",
       "      <td>80.4</td>\n",
       "      <td>97.5</td>\n",
       "      <td>114.2</td>\n",
       "      <td>...</td>\n",
       "      <td>89.6</td>\n",
       "      <td>95.8</td>\n",
       "      <td>72.1</td>\n",
       "      <td>79.2</td>\n",
       "      <td>106.5</td>\n",
       "      <td>121.4</td>\n",
       "      <td>124.6</td>\n",
       "      <td>156.8</td>\n",
       "      <td>110.4</td>\n",
       "      <td>111.5</td>\n",
       "    </tr>\n",
       "  </tbody>\n",
       "</table>\n",
       "<p>1 rows × 24 columns</p>\n",
       "</div>"
      ],
      "text/plain": [
       "Ticker              ACOR  BIND   CHIC   DELT   ENE   ETAM  GINN  IOTA   KAP  \\\n",
       "Preço Atual (USD)  50.25  35.8  52.15  160.3  45.6  141.8  65.4  80.4  97.5   \n",
       "\n",
       "Ticker               LLO  ...  PHIP  PPOW  PSIP  RHOR    SIG   TELC   THTR  \\\n",
       "Preço Atual (USD)  114.2  ...  89.6  95.8  72.1  79.2  106.5  121.4  124.6   \n",
       "\n",
       "Ticker              UTIL    XIS   ZFDS  \n",
       "Preço Atual (USD)  156.8  110.4  111.5  \n",
       "\n",
       "[1 rows x 24 columns]"
      ]
     },
     "execution_count": 31,
     "metadata": {},
     "output_type": "execute_result"
    }
   ],
   "source": [
    "pd.pivot_table(df, columns='Ticker', values='Preço Atual (USD)' , aggfunc='sum')"
   ]
  }
 ],
 "metadata": {
  "kernelspec": {
   "display_name": "Python 3",
   "language": "python",
   "name": "python3"
  },
  "language_info": {
   "codemirror_mode": {
    "name": "ipython",
    "version": 3
   },
   "file_extension": ".py",
   "mimetype": "text/x-python",
   "name": "python",
   "nbconvert_exporter": "python",
   "pygments_lexer": "ipython3",
   "version": "3.12.6"
  }
 },
 "nbformat": 4,
 "nbformat_minor": 2
}
