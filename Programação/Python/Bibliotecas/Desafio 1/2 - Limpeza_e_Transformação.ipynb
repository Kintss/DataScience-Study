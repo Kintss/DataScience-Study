{
 "cells": [
  {
   "cell_type": "markdown",
   "metadata": {},
   "source": [
    "**Limpeza e Transformação**\n"
   ]
  },
  {
   "cell_type": "code",
   "execution_count": 130,
   "metadata": {},
   "outputs": [],
   "source": [
    "%store -r orders order_items products customers category_translation "
   ]
  },
  {
   "cell_type": "markdown",
   "metadata": {},
   "source": [
    "- Convertendo datas em datetime"
   ]
  },
  {
   "cell_type": "code",
   "execution_count": 166,
   "metadata": {},
   "outputs": [
    {
     "name": "stdout",
     "output_type": "stream",
     "text": [
      "\n",
      "Tipos das colunas após conversão:\n"
     ]
    },
    {
     "data": {
      "text/plain": [
       "order_id                                 object\n",
       "customer_id                              object\n",
       "order_status                             object\n",
       "order_purchase_timestamp         datetime64[ns]\n",
       "order_approved_at                datetime64[ns]\n",
       "order_delivered_carrier_date     datetime64[ns]\n",
       "order_delivered_customer_date    datetime64[ns]\n",
       "order_estimated_delivery_date    datetime64[ns]\n",
       "dtype: object"
      ]
     },
     "execution_count": 166,
     "metadata": {},
     "output_type": "execute_result"
    }
   ],
   "source": [
    "# Lista de colunas de data em cada DataFrame\n",
    "date_columns_orders = [\n",
    "    'order_purchase_timestamp',\n",
    "    'order_approved_at',\n",
    "    'order_delivered_carrier_date',\n",
    "    'order_delivered_customer_date',\n",
    "    'order_estimated_delivery_date'\n",
    "]\n",
    "\n",
    "# Converter todas as colunas de uma vez\n",
    "for col in date_columns_orders:\n",
    "    orders[col] = pd.to_datetime(orders[col], errors='coerce')\n",
    "    \n",
    "# Verificação rápida\n",
    "print(\"\\nTipos das colunas após conversão:\")\n",
    "orders.dtypes"
   ]
  },
  {
   "cell_type": "markdown",
   "metadata": {},
   "source": [
    "- Tratando dados nulos"
   ]
  },
  {
   "cell_type": "code",
   "execution_count": 167,
   "metadata": {},
   "outputs": [
    {
     "data": {
      "text/plain": [
       "\"\\nDECISÕES DE LIMPEZA:\\n1. product_weight_g - mantido como NaN quando faltante\\n   (justificativa: preenchimento artificial distorceria análises logísticas)\\n2. product_category_name - preenchido com 'NAO_INFORMADO'\\n   (justificativa: permite agrupamento na análise)\\n\""
      ]
     },
     "execution_count": 167,
     "metadata": {},
     "output_type": "execute_result"
    }
   ],
   "source": [
    "# 3. Para categorias (ex: product_category_name)\n",
    "products['product_category_name'] = products['product_category_name'].fillna('NAO_INFORMADO')\n",
    "\n",
    "\"\"\"\n",
    "DECISÕES DE LIMPEZA:\n",
    "1. product_weight_g - mantido como NaN quando faltante\n",
    "   (justificativa: preenchimento artificial distorceria análises logísticas)\n",
    "2. product_category_name - preenchido com 'NAO_INFORMADO'\n",
    "   (justificativa: permite agrupamento na análise)\n",
    "\"\"\""
   ]
  },
  {
   "cell_type": "markdown",
   "metadata": {},
   "source": [
    "- Juntando tabelas"
   ]
  },
  {
   "cell_type": "code",
   "execution_count": 174,
   "metadata": {},
   "outputs": [
    {
     "data": {
      "text/plain": [
       "customer_state\n",
       "SP    5202955.05\n",
       "RJ    1824092.67\n",
       "MG    1585308.03\n",
       "RS     750304.02\n",
       "PR     683083.76\n",
       "SC     520553.34\n",
       "BA     511349.99\n",
       "DF     302603.94\n",
       "GO     294591.95\n",
       "ES     275037.31\n",
       "PE     262788.03\n",
       "CE     227254.71\n",
       "PA     178947.81\n",
       "MT     156453.53\n",
       "MA     119648.22\n",
       "MS     116812.64\n",
       "PB     115268.08\n",
       "PI      86914.08\n",
       "RN      83034.98\n",
       "AL      80314.81\n",
       "SE      58920.85\n",
       "TO      49621.74\n",
       "RO      46140.64\n",
       "AM      22356.84\n",
       "AC      15982.95\n",
       "AP      13474.30\n",
       "RR       7829.43\n",
       "Name: price, dtype: float64"
      ]
     },
     "execution_count": 174,
     "metadata": {},
     "output_type": "execute_result"
    }
   ],
   "source": [
    "merged_orders = pd.merge(orders, order_items, on='order_id')\n",
    "merged_orders = pd.merge(merged_orders, products, on='product_id')\n",
    "dados = merged_orders.merge(customers, on='customer_id', how='left')\n",
    "dados.groupby('customer_state')['price'].sum().sort_values(ascending=False)\n"
   ]
  },
  {
   "cell_type": "code",
   "execution_count": null,
   "metadata": {},
   "outputs": [
    {
     "data": {
      "text/plain": [
       "Index(['order_id', 'customer_id', 'order_status', 'order_purchase_timestamp',\n",
       "       'order_approved_at', 'order_delivered_carrier_date',\n",
       "       'order_delivered_customer_date', 'order_estimated_delivery_date',\n",
       "       'order_item_id', 'product_id', 'seller_id', 'shipping_limit_date',\n",
       "       'price', 'freight_value', 'product_category_name',\n",
       "       'product_name_lenght', 'product_description_lenght',\n",
       "       'product_photos_qty', 'product_weight_g', 'product_length_cm',\n",
       "       'product_height_cm', 'product_width_cm', 'customer_unique_id',\n",
       "       'customer_zip_code_prefix', 'customer_city', 'customer_state'],\n",
       "      dtype='object')"
      ]
     },
     "execution_count": 171,
     "metadata": {},
     "output_type": "execute_result"
    }
   ],
   "source": [
    "#dados = dados.merge(category_translation, on='product_category_name', how='left')\n",
    "#dados.rename(columns={'product_category_name_english': 'category'}, inplace=True)\n",
    "\n",
    "%store dados\n",
    "\n",
    "\n",
    "\n"
   ]
  }
 ],
 "metadata": {
  "kernelspec": {
   "display_name": "Python 3",
   "language": "python",
   "name": "python3"
  },
  "language_info": {
   "codemirror_mode": {
    "name": "ipython",
    "version": 3
   },
   "file_extension": ".py",
   "mimetype": "text/x-python",
   "name": "python",
   "nbconvert_exporter": "python",
   "pygments_lexer": "ipython3",
   "version": "3.12.6"
  }
 },
 "nbformat": 4,
 "nbformat_minor": 2
}
