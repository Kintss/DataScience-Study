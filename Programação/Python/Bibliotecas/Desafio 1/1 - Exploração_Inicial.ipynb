{
 "cells": [
  {
   "cell_type": "markdown",
   "metadata": {},
   "source": [
    "# DesafioDesafio Olist: Mergulho Profundo em Dados de E-Commerce Brasileiro "
   ]
  },
  {
   "cell_type": "markdown",
   "metadata": {},
   "source": [
    "**Exploração Inicial**"
   ]
  },
  {
   "cell_type": "code",
   "execution_count": 27,
   "metadata": {},
   "outputs": [
    {
     "name": "stdout",
     "output_type": "stream",
     "text": [
      "Stored 'orders' (DataFrame)\n",
      "Stored 'order_items' (DataFrame)\n",
      "Stored 'products' (DataFrame)\n",
      "Stored 'customers' (DataFrame)\n",
      "Stored 'category_translation' (DataFrame)\n"
     ]
    }
   ],
   "source": [
    "import pandas as pd\n",
    "\n",
    "# Carrega algumas tabelas\n",
    "orders = pd.read_csv('Dados/olist_orders_dataset.csv')\n",
    "order_items = pd.read_csv('Dados/olist_order_items_dataset.csv')\n",
    "products = pd.read_csv('Dados/olist_products_dataset.csv')\n",
    "customers = pd.read_csv('Dados/olist_customers_dataset.csv')\n",
    "category_translation = pd.read_csv('Dados/product_category_name_translation.csv')\n",
    "\n",
    "# Salva para não precisar recarregar\n",
    "%store orders order_items products customers category_translation"
   ]
  },
  {
   "cell_type": "markdown",
   "metadata": {},
   "source": [
    "- Order Items"
   ]
  },
  {
   "cell_type": "code",
   "execution_count": 17,
   "metadata": {},
   "outputs": [
    {
     "name": "stdout",
     "output_type": "stream",
     "text": [
      "<class 'pandas.core.frame.DataFrame'>\n",
      "RangeIndex: 112650 entries, 0 to 112649\n",
      "Data columns (total 7 columns):\n",
      " #   Column               Non-Null Count   Dtype  \n",
      "---  ------               --------------   -----  \n",
      " 0   order_id             112650 non-null  object \n",
      " 1   order_item_id        112650 non-null  int64  \n",
      " 2   product_id           112650 non-null  object \n",
      " 3   seller_id            112650 non-null  object \n",
      " 4   shipping_limit_date  112650 non-null  object \n",
      " 5   price                112650 non-null  float64\n",
      " 6   freight_value        112650 non-null  float64\n",
      "dtypes: float64(2), int64(1), object(4)\n",
      "memory usage: 6.0+ MB\n"
     ]
    }
   ],
   "source": [
    "order_items.info()"
   ]
  },
  {
   "cell_type": "code",
   "execution_count": 18,
   "metadata": {},
   "outputs": [
    {
     "data": {
      "application/vnd.microsoft.datawrangler.viewer.v0+json": {
       "columns": [
        {
         "name": "index",
         "rawType": "int64",
         "type": "integer"
        },
        {
         "name": "order_id",
         "rawType": "object",
         "type": "string"
        },
        {
         "name": "order_item_id",
         "rawType": "int64",
         "type": "integer"
        },
        {
         "name": "product_id",
         "rawType": "object",
         "type": "string"
        },
        {
         "name": "seller_id",
         "rawType": "object",
         "type": "string"
        },
        {
         "name": "shipping_limit_date",
         "rawType": "object",
         "type": "string"
        },
        {
         "name": "price",
         "rawType": "float64",
         "type": "float"
        },
        {
         "name": "freight_value",
         "rawType": "float64",
         "type": "float"
        }
       ],
       "conversionMethod": "pd.DataFrame",
       "ref": "e034b493-855d-4e3d-8e70-a891b7b2efee",
       "rows": [
        [
         "52221",
         "76dd6b675eeba81086553a3c272e0423",
         "1",
         "d1f8238b6028d483af2329cb63cc9bfd",
         "1554a68530182680ad5c8b042c3ab563",
         "2018-05-10 00:12:45",
         "189.9",
         "41.4"
        ],
        [
         "4825",
         "0ae6247166276150abcb71aaa91b0498",
         "1",
         "554fc36c06624912230e7355ab7be734",
         "1127b7f2594683f2510f1c2c834a486b",
         "2017-06-01 02:30:23",
         "37.55",
         "25.63"
        ],
        [
         "15320",
         "22f3a2b22f414d974640db425514794d",
         "1",
         "07fe9ffbb84b9d22610d79efb16e81a7",
         "e84ad2127668df3aafc6b73531a0beb8",
         "2018-08-10 13:45:18",
         "65.0",
         "17.39"
        ],
        [
         "86950",
         "c578368509858a65535ce3962ee21be3",
         "1",
         "c50ca07e9e4db9ea5011f06802c0aea0",
         "9b013e03b2ab786505a1d3b5c0756754",
         "2018-08-07 20:23:58",
         "19.49",
         "12.8"
        ],
        [
         "22449",
         "334366f2e22dfcecc6821c15209f0175",
         "1",
         "425a12d4dd8e5e7ba3be5c4157f1fafc",
         "fa1c13f2614d7b5c4749cbc52fecda94",
         "2017-03-08 23:30:19",
         "189.0",
         "15.49"
        ],
        [
         "95548",
         "d8be9ae1b47e841991f6985619f70ddb",
         "1",
         "40c36dbe4fd510370d40e09ae7670a26",
         "8444e55c1f13cd5c179851e5ca5ebd00",
         "2018-04-19 23:50:20",
         "108.9",
         "14.84"
        ],
        [
         "43599",
         "63154c299d1199262f60527437e156a5",
         "2",
         "97c57b8428f6b7a7597248a02938681d",
         "17a053fcb14bd219540cbde0df490be0",
         "2018-08-10 15:44:42",
         "328.9",
         "142.49"
        ],
        [
         "45000",
         "6651400020b5bc201756cad655783aa1",
         "1",
         "00a0db09dc7c94d512ec51900141ed69",
         "fa14641f57b655e933124a9ea49cd7a5",
         "2018-02-09 14:10:50",
         "49.99",
         "15.1"
        ],
        [
         "4278",
         "099d62f80912acec8ebfabeed29585cf",
         "1",
         "c6745a1ce132f8dc5f38829c6fb67eba",
         "e9d99831abad74458942f21e16f33f92",
         "2018-06-29 10:53:37",
         "35.99",
         "18.35"
        ],
        [
         "54132",
         "7b07cef881924b566432e1343e5dba8a",
         "2",
         "c6548fa817cc7271747e6c6bd2461171",
         "1caf283236cd69af44cbc09a0a1e7d32",
         "2018-01-08 16:32:21",
         "25.73",
         "7.9"
        ]
       ],
       "shape": {
        "columns": 7,
        "rows": 10
       }
      },
      "text/html": [
       "<div>\n",
       "<style scoped>\n",
       "    .dataframe tbody tr th:only-of-type {\n",
       "        vertical-align: middle;\n",
       "    }\n",
       "\n",
       "    .dataframe tbody tr th {\n",
       "        vertical-align: top;\n",
       "    }\n",
       "\n",
       "    .dataframe thead th {\n",
       "        text-align: right;\n",
       "    }\n",
       "</style>\n",
       "<table border=\"1\" class=\"dataframe\">\n",
       "  <thead>\n",
       "    <tr style=\"text-align: right;\">\n",
       "      <th></th>\n",
       "      <th>order_id</th>\n",
       "      <th>order_item_id</th>\n",
       "      <th>product_id</th>\n",
       "      <th>seller_id</th>\n",
       "      <th>shipping_limit_date</th>\n",
       "      <th>price</th>\n",
       "      <th>freight_value</th>\n",
       "    </tr>\n",
       "  </thead>\n",
       "  <tbody>\n",
       "    <tr>\n",
       "      <th>52221</th>\n",
       "      <td>76dd6b675eeba81086553a3c272e0423</td>\n",
       "      <td>1</td>\n",
       "      <td>d1f8238b6028d483af2329cb63cc9bfd</td>\n",
       "      <td>1554a68530182680ad5c8b042c3ab563</td>\n",
       "      <td>2018-05-10 00:12:45</td>\n",
       "      <td>189.90</td>\n",
       "      <td>41.40</td>\n",
       "    </tr>\n",
       "    <tr>\n",
       "      <th>4825</th>\n",
       "      <td>0ae6247166276150abcb71aaa91b0498</td>\n",
       "      <td>1</td>\n",
       "      <td>554fc36c06624912230e7355ab7be734</td>\n",
       "      <td>1127b7f2594683f2510f1c2c834a486b</td>\n",
       "      <td>2017-06-01 02:30:23</td>\n",
       "      <td>37.55</td>\n",
       "      <td>25.63</td>\n",
       "    </tr>\n",
       "    <tr>\n",
       "      <th>15320</th>\n",
       "      <td>22f3a2b22f414d974640db425514794d</td>\n",
       "      <td>1</td>\n",
       "      <td>07fe9ffbb84b9d22610d79efb16e81a7</td>\n",
       "      <td>e84ad2127668df3aafc6b73531a0beb8</td>\n",
       "      <td>2018-08-10 13:45:18</td>\n",
       "      <td>65.00</td>\n",
       "      <td>17.39</td>\n",
       "    </tr>\n",
       "    <tr>\n",
       "      <th>86950</th>\n",
       "      <td>c578368509858a65535ce3962ee21be3</td>\n",
       "      <td>1</td>\n",
       "      <td>c50ca07e9e4db9ea5011f06802c0aea0</td>\n",
       "      <td>9b013e03b2ab786505a1d3b5c0756754</td>\n",
       "      <td>2018-08-07 20:23:58</td>\n",
       "      <td>19.49</td>\n",
       "      <td>12.80</td>\n",
       "    </tr>\n",
       "    <tr>\n",
       "      <th>22449</th>\n",
       "      <td>334366f2e22dfcecc6821c15209f0175</td>\n",
       "      <td>1</td>\n",
       "      <td>425a12d4dd8e5e7ba3be5c4157f1fafc</td>\n",
       "      <td>fa1c13f2614d7b5c4749cbc52fecda94</td>\n",
       "      <td>2017-03-08 23:30:19</td>\n",
       "      <td>189.00</td>\n",
       "      <td>15.49</td>\n",
       "    </tr>\n",
       "    <tr>\n",
       "      <th>95548</th>\n",
       "      <td>d8be9ae1b47e841991f6985619f70ddb</td>\n",
       "      <td>1</td>\n",
       "      <td>40c36dbe4fd510370d40e09ae7670a26</td>\n",
       "      <td>8444e55c1f13cd5c179851e5ca5ebd00</td>\n",
       "      <td>2018-04-19 23:50:20</td>\n",
       "      <td>108.90</td>\n",
       "      <td>14.84</td>\n",
       "    </tr>\n",
       "    <tr>\n",
       "      <th>43599</th>\n",
       "      <td>63154c299d1199262f60527437e156a5</td>\n",
       "      <td>2</td>\n",
       "      <td>97c57b8428f6b7a7597248a02938681d</td>\n",
       "      <td>17a053fcb14bd219540cbde0df490be0</td>\n",
       "      <td>2018-08-10 15:44:42</td>\n",
       "      <td>328.90</td>\n",
       "      <td>142.49</td>\n",
       "    </tr>\n",
       "    <tr>\n",
       "      <th>45000</th>\n",
       "      <td>6651400020b5bc201756cad655783aa1</td>\n",
       "      <td>1</td>\n",
       "      <td>00a0db09dc7c94d512ec51900141ed69</td>\n",
       "      <td>fa14641f57b655e933124a9ea49cd7a5</td>\n",
       "      <td>2018-02-09 14:10:50</td>\n",
       "      <td>49.99</td>\n",
       "      <td>15.10</td>\n",
       "    </tr>\n",
       "    <tr>\n",
       "      <th>4278</th>\n",
       "      <td>099d62f80912acec8ebfabeed29585cf</td>\n",
       "      <td>1</td>\n",
       "      <td>c6745a1ce132f8dc5f38829c6fb67eba</td>\n",
       "      <td>e9d99831abad74458942f21e16f33f92</td>\n",
       "      <td>2018-06-29 10:53:37</td>\n",
       "      <td>35.99</td>\n",
       "      <td>18.35</td>\n",
       "    </tr>\n",
       "    <tr>\n",
       "      <th>54132</th>\n",
       "      <td>7b07cef881924b566432e1343e5dba8a</td>\n",
       "      <td>2</td>\n",
       "      <td>c6548fa817cc7271747e6c6bd2461171</td>\n",
       "      <td>1caf283236cd69af44cbc09a0a1e7d32</td>\n",
       "      <td>2018-01-08 16:32:21</td>\n",
       "      <td>25.73</td>\n",
       "      <td>7.90</td>\n",
       "    </tr>\n",
       "  </tbody>\n",
       "</table>\n",
       "</div>"
      ],
      "text/plain": [
       "                               order_id  order_item_id  \\\n",
       "52221  76dd6b675eeba81086553a3c272e0423              1   \n",
       "4825   0ae6247166276150abcb71aaa91b0498              1   \n",
       "15320  22f3a2b22f414d974640db425514794d              1   \n",
       "86950  c578368509858a65535ce3962ee21be3              1   \n",
       "22449  334366f2e22dfcecc6821c15209f0175              1   \n",
       "95548  d8be9ae1b47e841991f6985619f70ddb              1   \n",
       "43599  63154c299d1199262f60527437e156a5              2   \n",
       "45000  6651400020b5bc201756cad655783aa1              1   \n",
       "4278   099d62f80912acec8ebfabeed29585cf              1   \n",
       "54132  7b07cef881924b566432e1343e5dba8a              2   \n",
       "\n",
       "                             product_id                         seller_id  \\\n",
       "52221  d1f8238b6028d483af2329cb63cc9bfd  1554a68530182680ad5c8b042c3ab563   \n",
       "4825   554fc36c06624912230e7355ab7be734  1127b7f2594683f2510f1c2c834a486b   \n",
       "15320  07fe9ffbb84b9d22610d79efb16e81a7  e84ad2127668df3aafc6b73531a0beb8   \n",
       "86950  c50ca07e9e4db9ea5011f06802c0aea0  9b013e03b2ab786505a1d3b5c0756754   \n",
       "22449  425a12d4dd8e5e7ba3be5c4157f1fafc  fa1c13f2614d7b5c4749cbc52fecda94   \n",
       "95548  40c36dbe4fd510370d40e09ae7670a26  8444e55c1f13cd5c179851e5ca5ebd00   \n",
       "43599  97c57b8428f6b7a7597248a02938681d  17a053fcb14bd219540cbde0df490be0   \n",
       "45000  00a0db09dc7c94d512ec51900141ed69  fa14641f57b655e933124a9ea49cd7a5   \n",
       "4278   c6745a1ce132f8dc5f38829c6fb67eba  e9d99831abad74458942f21e16f33f92   \n",
       "54132  c6548fa817cc7271747e6c6bd2461171  1caf283236cd69af44cbc09a0a1e7d32   \n",
       "\n",
       "       shipping_limit_date   price  freight_value  \n",
       "52221  2018-05-10 00:12:45  189.90          41.40  \n",
       "4825   2017-06-01 02:30:23   37.55          25.63  \n",
       "15320  2018-08-10 13:45:18   65.00          17.39  \n",
       "86950  2018-08-07 20:23:58   19.49          12.80  \n",
       "22449  2017-03-08 23:30:19  189.00          15.49  \n",
       "95548  2018-04-19 23:50:20  108.90          14.84  \n",
       "43599  2018-08-10 15:44:42  328.90         142.49  \n",
       "45000  2018-02-09 14:10:50   49.99          15.10  \n",
       "4278   2018-06-29 10:53:37   35.99          18.35  \n",
       "54132  2018-01-08 16:32:21   25.73           7.90  "
      ]
     },
     "execution_count": 18,
     "metadata": {},
     "output_type": "execute_result"
    }
   ],
   "source": [
    "order_items.sample(10)"
   ]
  },
  {
   "cell_type": "markdown",
   "metadata": {},
   "source": [
    "- Orders"
   ]
  },
  {
   "cell_type": "code",
   "execution_count": 19,
   "metadata": {},
   "outputs": [
    {
     "name": "stdout",
     "output_type": "stream",
     "text": [
      "<class 'pandas.core.frame.DataFrame'>\n",
      "RangeIndex: 99441 entries, 0 to 99440\n",
      "Data columns (total 8 columns):\n",
      " #   Column                         Non-Null Count  Dtype \n",
      "---  ------                         --------------  ----- \n",
      " 0   order_id                       99441 non-null  object\n",
      " 1   customer_id                    99441 non-null  object\n",
      " 2   order_status                   99441 non-null  object\n",
      " 3   order_purchase_timestamp       99441 non-null  object\n",
      " 4   order_approved_at              99281 non-null  object\n",
      " 5   order_delivered_carrier_date   97658 non-null  object\n",
      " 6   order_delivered_customer_date  96476 non-null  object\n",
      " 7   order_estimated_delivery_date  99441 non-null  object\n",
      "dtypes: object(8)\n",
      "memory usage: 6.1+ MB\n"
     ]
    }
   ],
   "source": [
    "orders.info()"
   ]
  },
  {
   "cell_type": "code",
   "execution_count": 20,
   "metadata": {},
   "outputs": [
    {
     "data": {
      "application/vnd.microsoft.datawrangler.viewer.v0+json": {
       "columns": [
        {
         "name": "index",
         "rawType": "int64",
         "type": "integer"
        },
        {
         "name": "order_id",
         "rawType": "object",
         "type": "string"
        },
        {
         "name": "customer_id",
         "rawType": "object",
         "type": "string"
        },
        {
         "name": "order_status",
         "rawType": "object",
         "type": "string"
        },
        {
         "name": "order_purchase_timestamp",
         "rawType": "object",
         "type": "string"
        },
        {
         "name": "order_approved_at",
         "rawType": "object",
         "type": "string"
        },
        {
         "name": "order_delivered_carrier_date",
         "rawType": "object",
         "type": "string"
        },
        {
         "name": "order_delivered_customer_date",
         "rawType": "object",
         "type": "string"
        },
        {
         "name": "order_estimated_delivery_date",
         "rawType": "object",
         "type": "string"
        }
       ],
       "conversionMethod": "pd.DataFrame",
       "ref": "1d68cbe7-bbf8-49b2-b14d-b497b148c96e",
       "rows": [
        [
         "11352",
         "34050aa3fee994fb448fd3d87028f094",
         "0069f43bfc018147f03b7a0f64fa00bd",
         "delivered",
         "2018-07-19 15:51:58",
         "2018-07-19 16:05:28",
         "2018-07-20 13:16:00",
         "2018-07-27 09:38:52",
         "2018-08-13 00:00:00"
        ],
        [
         "46800",
         "b08f7ce910570d89714767d4610943b0",
         "a513a3299be4497003e220b158d68735",
         "delivered",
         "2018-03-08 17:17:45",
         "2018-03-08 18:20:32",
         "2018-03-09 20:11:54",
         "2018-04-06 18:23:15",
         "2018-03-28 00:00:00"
        ],
        [
         "61146",
         "b7c0da6da0a4987fd0b793c77ebbb06a",
         "f48021d46a7c5b0a77b16ea28981cfd8",
         "delivered",
         "2017-10-31 21:51:02",
         "2017-10-31 22:06:03",
         "2017-11-01 15:52:18",
         "2017-11-09 23:46:45",
         "2017-11-23 00:00:00"
        ],
        [
         "12327",
         "178ad6d5050011f2f0e7b7e66d6f02c8",
         "9877fcd27590eefc7315fa5469dfe2f3",
         "delivered",
         "2017-08-07 20:16:02",
         "2017-08-08 20:25:18",
         "2017-08-12 10:48:51",
         "2017-08-18 18:53:47",
         "2017-09-08 00:00:00"
        ],
        [
         "76631",
         "4027aaf151a408af313fee7a5af64c5a",
         "14ec0af04aab4398a904a77ac2e1c68b",
         "delivered",
         "2017-12-31 00:02:06",
         "2017-12-31 00:13:48",
         "2018-01-02 20:27:02",
         "2018-01-09 18:15:29",
         "2018-01-26 00:00:00"
        ],
        [
         "84641",
         "251fe947dc87c3ac12965b12bd34f160",
         "e45fc68e618340baf7ced09aa8e0f5f3",
         "delivered",
         "2018-05-09 16:09:45",
         "2018-05-09 16:30:42",
         "2018-05-10 10:25:00",
         "2018-05-16 14:31:33",
         "2018-05-30 00:00:00"
        ],
        [
         "76614",
         "7e0b50d7996f3b774c21b38458c54d03",
         "df14b61cc7c66d382984e0fb32c40971",
         "delivered",
         "2018-03-26 18:30:40",
         "2018-03-26 18:47:22",
         "2018-03-28 20:32:30",
         "2018-04-04 15:54:54",
         "2018-04-12 00:00:00"
        ],
        [
         "29310",
         "dde2650c0fa0e73271dc339daf400ac9",
         "e24afd292df4c36dca1a8e419dfc7bc0",
         "delivered",
         "2018-07-30 00:46:43",
         "2018-07-30 00:55:25",
         "2018-07-30 17:13:00",
         "2018-08-03 18:21:53",
         "2018-08-10 00:00:00"
        ],
        [
         "81738",
         "b2cc014ee51b0ca758fa72abdc54d199",
         "de15430f37f04581b26de5bcc7ba249d",
         "delivered",
         "2018-07-06 12:31:52",
         "2018-07-06 12:51:06",
         "2018-07-10 13:58:00",
         "2018-07-18 21:42:05",
         "2018-08-13 00:00:00"
        ],
        [
         "57738",
         "e15a56fb22219e39b15a7c75987361e9",
         "0b0681e989c43f272ef233e1a286b2b2",
         "delivered",
         "2017-08-19 11:42:34",
         "2017-08-19 11:55:18",
         "2017-08-23 14:28:20",
         "2017-08-28 19:32:39",
         "2017-09-19 00:00:00"
        ]
       ],
       "shape": {
        "columns": 8,
        "rows": 10
       }
      },
      "text/html": [
       "<div>\n",
       "<style scoped>\n",
       "    .dataframe tbody tr th:only-of-type {\n",
       "        vertical-align: middle;\n",
       "    }\n",
       "\n",
       "    .dataframe tbody tr th {\n",
       "        vertical-align: top;\n",
       "    }\n",
       "\n",
       "    .dataframe thead th {\n",
       "        text-align: right;\n",
       "    }\n",
       "</style>\n",
       "<table border=\"1\" class=\"dataframe\">\n",
       "  <thead>\n",
       "    <tr style=\"text-align: right;\">\n",
       "      <th></th>\n",
       "      <th>order_id</th>\n",
       "      <th>customer_id</th>\n",
       "      <th>order_status</th>\n",
       "      <th>order_purchase_timestamp</th>\n",
       "      <th>order_approved_at</th>\n",
       "      <th>order_delivered_carrier_date</th>\n",
       "      <th>order_delivered_customer_date</th>\n",
       "      <th>order_estimated_delivery_date</th>\n",
       "    </tr>\n",
       "  </thead>\n",
       "  <tbody>\n",
       "    <tr>\n",
       "      <th>11352</th>\n",
       "      <td>34050aa3fee994fb448fd3d87028f094</td>\n",
       "      <td>0069f43bfc018147f03b7a0f64fa00bd</td>\n",
       "      <td>delivered</td>\n",
       "      <td>2018-07-19 15:51:58</td>\n",
       "      <td>2018-07-19 16:05:28</td>\n",
       "      <td>2018-07-20 13:16:00</td>\n",
       "      <td>2018-07-27 09:38:52</td>\n",
       "      <td>2018-08-13 00:00:00</td>\n",
       "    </tr>\n",
       "    <tr>\n",
       "      <th>46800</th>\n",
       "      <td>b08f7ce910570d89714767d4610943b0</td>\n",
       "      <td>a513a3299be4497003e220b158d68735</td>\n",
       "      <td>delivered</td>\n",
       "      <td>2018-03-08 17:17:45</td>\n",
       "      <td>2018-03-08 18:20:32</td>\n",
       "      <td>2018-03-09 20:11:54</td>\n",
       "      <td>2018-04-06 18:23:15</td>\n",
       "      <td>2018-03-28 00:00:00</td>\n",
       "    </tr>\n",
       "    <tr>\n",
       "      <th>61146</th>\n",
       "      <td>b7c0da6da0a4987fd0b793c77ebbb06a</td>\n",
       "      <td>f48021d46a7c5b0a77b16ea28981cfd8</td>\n",
       "      <td>delivered</td>\n",
       "      <td>2017-10-31 21:51:02</td>\n",
       "      <td>2017-10-31 22:06:03</td>\n",
       "      <td>2017-11-01 15:52:18</td>\n",
       "      <td>2017-11-09 23:46:45</td>\n",
       "      <td>2017-11-23 00:00:00</td>\n",
       "    </tr>\n",
       "    <tr>\n",
       "      <th>12327</th>\n",
       "      <td>178ad6d5050011f2f0e7b7e66d6f02c8</td>\n",
       "      <td>9877fcd27590eefc7315fa5469dfe2f3</td>\n",
       "      <td>delivered</td>\n",
       "      <td>2017-08-07 20:16:02</td>\n",
       "      <td>2017-08-08 20:25:18</td>\n",
       "      <td>2017-08-12 10:48:51</td>\n",
       "      <td>2017-08-18 18:53:47</td>\n",
       "      <td>2017-09-08 00:00:00</td>\n",
       "    </tr>\n",
       "    <tr>\n",
       "      <th>76631</th>\n",
       "      <td>4027aaf151a408af313fee7a5af64c5a</td>\n",
       "      <td>14ec0af04aab4398a904a77ac2e1c68b</td>\n",
       "      <td>delivered</td>\n",
       "      <td>2017-12-31 00:02:06</td>\n",
       "      <td>2017-12-31 00:13:48</td>\n",
       "      <td>2018-01-02 20:27:02</td>\n",
       "      <td>2018-01-09 18:15:29</td>\n",
       "      <td>2018-01-26 00:00:00</td>\n",
       "    </tr>\n",
       "    <tr>\n",
       "      <th>84641</th>\n",
       "      <td>251fe947dc87c3ac12965b12bd34f160</td>\n",
       "      <td>e45fc68e618340baf7ced09aa8e0f5f3</td>\n",
       "      <td>delivered</td>\n",
       "      <td>2018-05-09 16:09:45</td>\n",
       "      <td>2018-05-09 16:30:42</td>\n",
       "      <td>2018-05-10 10:25:00</td>\n",
       "      <td>2018-05-16 14:31:33</td>\n",
       "      <td>2018-05-30 00:00:00</td>\n",
       "    </tr>\n",
       "    <tr>\n",
       "      <th>76614</th>\n",
       "      <td>7e0b50d7996f3b774c21b38458c54d03</td>\n",
       "      <td>df14b61cc7c66d382984e0fb32c40971</td>\n",
       "      <td>delivered</td>\n",
       "      <td>2018-03-26 18:30:40</td>\n",
       "      <td>2018-03-26 18:47:22</td>\n",
       "      <td>2018-03-28 20:32:30</td>\n",
       "      <td>2018-04-04 15:54:54</td>\n",
       "      <td>2018-04-12 00:00:00</td>\n",
       "    </tr>\n",
       "    <tr>\n",
       "      <th>29310</th>\n",
       "      <td>dde2650c0fa0e73271dc339daf400ac9</td>\n",
       "      <td>e24afd292df4c36dca1a8e419dfc7bc0</td>\n",
       "      <td>delivered</td>\n",
       "      <td>2018-07-30 00:46:43</td>\n",
       "      <td>2018-07-30 00:55:25</td>\n",
       "      <td>2018-07-30 17:13:00</td>\n",
       "      <td>2018-08-03 18:21:53</td>\n",
       "      <td>2018-08-10 00:00:00</td>\n",
       "    </tr>\n",
       "    <tr>\n",
       "      <th>81738</th>\n",
       "      <td>b2cc014ee51b0ca758fa72abdc54d199</td>\n",
       "      <td>de15430f37f04581b26de5bcc7ba249d</td>\n",
       "      <td>delivered</td>\n",
       "      <td>2018-07-06 12:31:52</td>\n",
       "      <td>2018-07-06 12:51:06</td>\n",
       "      <td>2018-07-10 13:58:00</td>\n",
       "      <td>2018-07-18 21:42:05</td>\n",
       "      <td>2018-08-13 00:00:00</td>\n",
       "    </tr>\n",
       "    <tr>\n",
       "      <th>57738</th>\n",
       "      <td>e15a56fb22219e39b15a7c75987361e9</td>\n",
       "      <td>0b0681e989c43f272ef233e1a286b2b2</td>\n",
       "      <td>delivered</td>\n",
       "      <td>2017-08-19 11:42:34</td>\n",
       "      <td>2017-08-19 11:55:18</td>\n",
       "      <td>2017-08-23 14:28:20</td>\n",
       "      <td>2017-08-28 19:32:39</td>\n",
       "      <td>2017-09-19 00:00:00</td>\n",
       "    </tr>\n",
       "  </tbody>\n",
       "</table>\n",
       "</div>"
      ],
      "text/plain": [
       "                               order_id                       customer_id  \\\n",
       "11352  34050aa3fee994fb448fd3d87028f094  0069f43bfc018147f03b7a0f64fa00bd   \n",
       "46800  b08f7ce910570d89714767d4610943b0  a513a3299be4497003e220b158d68735   \n",
       "61146  b7c0da6da0a4987fd0b793c77ebbb06a  f48021d46a7c5b0a77b16ea28981cfd8   \n",
       "12327  178ad6d5050011f2f0e7b7e66d6f02c8  9877fcd27590eefc7315fa5469dfe2f3   \n",
       "76631  4027aaf151a408af313fee7a5af64c5a  14ec0af04aab4398a904a77ac2e1c68b   \n",
       "84641  251fe947dc87c3ac12965b12bd34f160  e45fc68e618340baf7ced09aa8e0f5f3   \n",
       "76614  7e0b50d7996f3b774c21b38458c54d03  df14b61cc7c66d382984e0fb32c40971   \n",
       "29310  dde2650c0fa0e73271dc339daf400ac9  e24afd292df4c36dca1a8e419dfc7bc0   \n",
       "81738  b2cc014ee51b0ca758fa72abdc54d199  de15430f37f04581b26de5bcc7ba249d   \n",
       "57738  e15a56fb22219e39b15a7c75987361e9  0b0681e989c43f272ef233e1a286b2b2   \n",
       "\n",
       "      order_status order_purchase_timestamp    order_approved_at  \\\n",
       "11352    delivered      2018-07-19 15:51:58  2018-07-19 16:05:28   \n",
       "46800    delivered      2018-03-08 17:17:45  2018-03-08 18:20:32   \n",
       "61146    delivered      2017-10-31 21:51:02  2017-10-31 22:06:03   \n",
       "12327    delivered      2017-08-07 20:16:02  2017-08-08 20:25:18   \n",
       "76631    delivered      2017-12-31 00:02:06  2017-12-31 00:13:48   \n",
       "84641    delivered      2018-05-09 16:09:45  2018-05-09 16:30:42   \n",
       "76614    delivered      2018-03-26 18:30:40  2018-03-26 18:47:22   \n",
       "29310    delivered      2018-07-30 00:46:43  2018-07-30 00:55:25   \n",
       "81738    delivered      2018-07-06 12:31:52  2018-07-06 12:51:06   \n",
       "57738    delivered      2017-08-19 11:42:34  2017-08-19 11:55:18   \n",
       "\n",
       "      order_delivered_carrier_date order_delivered_customer_date  \\\n",
       "11352          2018-07-20 13:16:00           2018-07-27 09:38:52   \n",
       "46800          2018-03-09 20:11:54           2018-04-06 18:23:15   \n",
       "61146          2017-11-01 15:52:18           2017-11-09 23:46:45   \n",
       "12327          2017-08-12 10:48:51           2017-08-18 18:53:47   \n",
       "76631          2018-01-02 20:27:02           2018-01-09 18:15:29   \n",
       "84641          2018-05-10 10:25:00           2018-05-16 14:31:33   \n",
       "76614          2018-03-28 20:32:30           2018-04-04 15:54:54   \n",
       "29310          2018-07-30 17:13:00           2018-08-03 18:21:53   \n",
       "81738          2018-07-10 13:58:00           2018-07-18 21:42:05   \n",
       "57738          2017-08-23 14:28:20           2017-08-28 19:32:39   \n",
       "\n",
       "      order_estimated_delivery_date  \n",
       "11352           2018-08-13 00:00:00  \n",
       "46800           2018-03-28 00:00:00  \n",
       "61146           2017-11-23 00:00:00  \n",
       "12327           2017-09-08 00:00:00  \n",
       "76631           2018-01-26 00:00:00  \n",
       "84641           2018-05-30 00:00:00  \n",
       "76614           2018-04-12 00:00:00  \n",
       "29310           2018-08-10 00:00:00  \n",
       "81738           2018-08-13 00:00:00  \n",
       "57738           2017-09-19 00:00:00  "
      ]
     },
     "execution_count": 20,
     "metadata": {},
     "output_type": "execute_result"
    }
   ],
   "source": [
    "orders.sample(10)"
   ]
  },
  {
   "cell_type": "markdown",
   "metadata": {},
   "source": [
    "- Products"
   ]
  },
  {
   "cell_type": "code",
   "execution_count": 21,
   "metadata": {},
   "outputs": [
    {
     "name": "stdout",
     "output_type": "stream",
     "text": [
      "<class 'pandas.core.frame.DataFrame'>\n",
      "RangeIndex: 32951 entries, 0 to 32950\n",
      "Data columns (total 9 columns):\n",
      " #   Column                      Non-Null Count  Dtype  \n",
      "---  ------                      --------------  -----  \n",
      " 0   product_id                  32951 non-null  object \n",
      " 1   product_category_name       32341 non-null  object \n",
      " 2   product_name_lenght         32341 non-null  float64\n",
      " 3   product_description_lenght  32341 non-null  float64\n",
      " 4   product_photos_qty          32341 non-null  float64\n",
      " 5   product_weight_g            32949 non-null  float64\n",
      " 6   product_length_cm           32949 non-null  float64\n",
      " 7   product_height_cm           32949 non-null  float64\n",
      " 8   product_width_cm            32949 non-null  float64\n",
      "dtypes: float64(7), object(2)\n",
      "memory usage: 2.3+ MB\n"
     ]
    }
   ],
   "source": [
    "products.info()"
   ]
  },
  {
   "cell_type": "code",
   "execution_count": 22,
   "metadata": {},
   "outputs": [
    {
     "data": {
      "application/vnd.microsoft.datawrangler.viewer.v0+json": {
       "columns": [
        {
         "name": "index",
         "rawType": "int64",
         "type": "integer"
        },
        {
         "name": "product_id",
         "rawType": "object",
         "type": "string"
        },
        {
         "name": "product_category_name",
         "rawType": "object",
         "type": "unknown"
        },
        {
         "name": "product_name_lenght",
         "rawType": "float64",
         "type": "float"
        },
        {
         "name": "product_description_lenght",
         "rawType": "float64",
         "type": "float"
        },
        {
         "name": "product_photos_qty",
         "rawType": "float64",
         "type": "float"
        },
        {
         "name": "product_weight_g",
         "rawType": "float64",
         "type": "float"
        },
        {
         "name": "product_length_cm",
         "rawType": "float64",
         "type": "float"
        },
        {
         "name": "product_height_cm",
         "rawType": "float64",
         "type": "float"
        },
        {
         "name": "product_width_cm",
         "rawType": "float64",
         "type": "float"
        }
       ],
       "conversionMethod": "pd.DataFrame",
       "ref": "cc6fce68-8b9b-4014-9982-7e0f8368e28f",
       "rows": [
        [
         "6215",
         "15a8b28443e64b840cc27ee2491507d4",
         "beleza_saude",
         "59.0",
         "458.0",
         "1.0",
         "750.0",
         "20.0",
         "20.0",
         "20.0"
        ],
        [
         "879",
         "44dc6124432da8482da2977dbfa88f59",
         "beleza_saude",
         "59.0",
         "1343.0",
         "2.0",
         "150.0",
         "16.0",
         "13.0",
         "11.0"
        ],
        [
         "32580",
         "ca7966fa77959536468be3c6ce1f19e1",
         "cama_mesa_banho",
         "52.0",
         "126.0",
         "2.0",
         "19500.0",
         "25.0",
         "60.0",
         "55.0"
        ],
        [
         "23994",
         "c76c5091f2e4b72771beb812a07ef131",
         "consoles_games",
         "52.0",
         "233.0",
         "2.0",
         "300.0",
         "18.0",
         "7.0",
         "20.0"
        ],
        [
         "26051",
         "dfb1a850d59b126de9fa01dcde19b43d",
         "brinquedos",
         "49.0",
         "949.0",
         "3.0",
         "600.0",
         "20.0",
         "25.0",
         "25.0"
        ],
        [
         "7613",
         "661bbdcbe54d141b50aeaf9d33384d34",
         "brinquedos",
         "38.0",
         "1096.0",
         "2.0",
         "300.0",
         "16.0",
         "15.0",
         "15.0"
        ],
        [
         "24663",
         "530b2adc666f8f1553e3590543920a72",
         "ferramentas_jardim",
         "54.0",
         "1313.0",
         "2.0",
         "800.0",
         "20.0",
         "20.0",
         "20.0"
        ],
        [
         "23193",
         "62ea5d617ff74ab3e446aa418e7f67ed",
         null,
         null,
         null,
         null,
         "200.0",
         "16.0",
         "2.0",
         "11.0"
        ],
        [
         "17947",
         "12587360502d12268a9841080015d52a",
         "relogios_presentes",
         "47.0",
         "716.0",
         "2.0",
         "200.0",
         "16.0",
         "12.0",
         "12.0"
        ],
        [
         "604",
         "0eb8e03d4ef83152c4642b606b5bbdec",
         "moveis_decoracao",
         "47.0",
         "348.0",
         "1.0",
         "2900.0",
         "40.0",
         "10.0",
         "35.0"
        ]
       ],
       "shape": {
        "columns": 9,
        "rows": 10
       }
      },
      "text/html": [
       "<div>\n",
       "<style scoped>\n",
       "    .dataframe tbody tr th:only-of-type {\n",
       "        vertical-align: middle;\n",
       "    }\n",
       "\n",
       "    .dataframe tbody tr th {\n",
       "        vertical-align: top;\n",
       "    }\n",
       "\n",
       "    .dataframe thead th {\n",
       "        text-align: right;\n",
       "    }\n",
       "</style>\n",
       "<table border=\"1\" class=\"dataframe\">\n",
       "  <thead>\n",
       "    <tr style=\"text-align: right;\">\n",
       "      <th></th>\n",
       "      <th>product_id</th>\n",
       "      <th>product_category_name</th>\n",
       "      <th>product_name_lenght</th>\n",
       "      <th>product_description_lenght</th>\n",
       "      <th>product_photos_qty</th>\n",
       "      <th>product_weight_g</th>\n",
       "      <th>product_length_cm</th>\n",
       "      <th>product_height_cm</th>\n",
       "      <th>product_width_cm</th>\n",
       "    </tr>\n",
       "  </thead>\n",
       "  <tbody>\n",
       "    <tr>\n",
       "      <th>6215</th>\n",
       "      <td>15a8b28443e64b840cc27ee2491507d4</td>\n",
       "      <td>beleza_saude</td>\n",
       "      <td>59.0</td>\n",
       "      <td>458.0</td>\n",
       "      <td>1.0</td>\n",
       "      <td>750.0</td>\n",
       "      <td>20.0</td>\n",
       "      <td>20.0</td>\n",
       "      <td>20.0</td>\n",
       "    </tr>\n",
       "    <tr>\n",
       "      <th>879</th>\n",
       "      <td>44dc6124432da8482da2977dbfa88f59</td>\n",
       "      <td>beleza_saude</td>\n",
       "      <td>59.0</td>\n",
       "      <td>1343.0</td>\n",
       "      <td>2.0</td>\n",
       "      <td>150.0</td>\n",
       "      <td>16.0</td>\n",
       "      <td>13.0</td>\n",
       "      <td>11.0</td>\n",
       "    </tr>\n",
       "    <tr>\n",
       "      <th>32580</th>\n",
       "      <td>ca7966fa77959536468be3c6ce1f19e1</td>\n",
       "      <td>cama_mesa_banho</td>\n",
       "      <td>52.0</td>\n",
       "      <td>126.0</td>\n",
       "      <td>2.0</td>\n",
       "      <td>19500.0</td>\n",
       "      <td>25.0</td>\n",
       "      <td>60.0</td>\n",
       "      <td>55.0</td>\n",
       "    </tr>\n",
       "    <tr>\n",
       "      <th>23994</th>\n",
       "      <td>c76c5091f2e4b72771beb812a07ef131</td>\n",
       "      <td>consoles_games</td>\n",
       "      <td>52.0</td>\n",
       "      <td>233.0</td>\n",
       "      <td>2.0</td>\n",
       "      <td>300.0</td>\n",
       "      <td>18.0</td>\n",
       "      <td>7.0</td>\n",
       "      <td>20.0</td>\n",
       "    </tr>\n",
       "    <tr>\n",
       "      <th>26051</th>\n",
       "      <td>dfb1a850d59b126de9fa01dcde19b43d</td>\n",
       "      <td>brinquedos</td>\n",
       "      <td>49.0</td>\n",
       "      <td>949.0</td>\n",
       "      <td>3.0</td>\n",
       "      <td>600.0</td>\n",
       "      <td>20.0</td>\n",
       "      <td>25.0</td>\n",
       "      <td>25.0</td>\n",
       "    </tr>\n",
       "    <tr>\n",
       "      <th>7613</th>\n",
       "      <td>661bbdcbe54d141b50aeaf9d33384d34</td>\n",
       "      <td>brinquedos</td>\n",
       "      <td>38.0</td>\n",
       "      <td>1096.0</td>\n",
       "      <td>2.0</td>\n",
       "      <td>300.0</td>\n",
       "      <td>16.0</td>\n",
       "      <td>15.0</td>\n",
       "      <td>15.0</td>\n",
       "    </tr>\n",
       "    <tr>\n",
       "      <th>24663</th>\n",
       "      <td>530b2adc666f8f1553e3590543920a72</td>\n",
       "      <td>ferramentas_jardim</td>\n",
       "      <td>54.0</td>\n",
       "      <td>1313.0</td>\n",
       "      <td>2.0</td>\n",
       "      <td>800.0</td>\n",
       "      <td>20.0</td>\n",
       "      <td>20.0</td>\n",
       "      <td>20.0</td>\n",
       "    </tr>\n",
       "    <tr>\n",
       "      <th>23193</th>\n",
       "      <td>62ea5d617ff74ab3e446aa418e7f67ed</td>\n",
       "      <td>NaN</td>\n",
       "      <td>NaN</td>\n",
       "      <td>NaN</td>\n",
       "      <td>NaN</td>\n",
       "      <td>200.0</td>\n",
       "      <td>16.0</td>\n",
       "      <td>2.0</td>\n",
       "      <td>11.0</td>\n",
       "    </tr>\n",
       "    <tr>\n",
       "      <th>17947</th>\n",
       "      <td>12587360502d12268a9841080015d52a</td>\n",
       "      <td>relogios_presentes</td>\n",
       "      <td>47.0</td>\n",
       "      <td>716.0</td>\n",
       "      <td>2.0</td>\n",
       "      <td>200.0</td>\n",
       "      <td>16.0</td>\n",
       "      <td>12.0</td>\n",
       "      <td>12.0</td>\n",
       "    </tr>\n",
       "    <tr>\n",
       "      <th>604</th>\n",
       "      <td>0eb8e03d4ef83152c4642b606b5bbdec</td>\n",
       "      <td>moveis_decoracao</td>\n",
       "      <td>47.0</td>\n",
       "      <td>348.0</td>\n",
       "      <td>1.0</td>\n",
       "      <td>2900.0</td>\n",
       "      <td>40.0</td>\n",
       "      <td>10.0</td>\n",
       "      <td>35.0</td>\n",
       "    </tr>\n",
       "  </tbody>\n",
       "</table>\n",
       "</div>"
      ],
      "text/plain": [
       "                             product_id product_category_name  \\\n",
       "6215   15a8b28443e64b840cc27ee2491507d4          beleza_saude   \n",
       "879    44dc6124432da8482da2977dbfa88f59          beleza_saude   \n",
       "32580  ca7966fa77959536468be3c6ce1f19e1       cama_mesa_banho   \n",
       "23994  c76c5091f2e4b72771beb812a07ef131        consoles_games   \n",
       "26051  dfb1a850d59b126de9fa01dcde19b43d            brinquedos   \n",
       "7613   661bbdcbe54d141b50aeaf9d33384d34            brinquedos   \n",
       "24663  530b2adc666f8f1553e3590543920a72    ferramentas_jardim   \n",
       "23193  62ea5d617ff74ab3e446aa418e7f67ed                   NaN   \n",
       "17947  12587360502d12268a9841080015d52a    relogios_presentes   \n",
       "604    0eb8e03d4ef83152c4642b606b5bbdec      moveis_decoracao   \n",
       "\n",
       "       product_name_lenght  product_description_lenght  product_photos_qty  \\\n",
       "6215                  59.0                       458.0                 1.0   \n",
       "879                   59.0                      1343.0                 2.0   \n",
       "32580                 52.0                       126.0                 2.0   \n",
       "23994                 52.0                       233.0                 2.0   \n",
       "26051                 49.0                       949.0                 3.0   \n",
       "7613                  38.0                      1096.0                 2.0   \n",
       "24663                 54.0                      1313.0                 2.0   \n",
       "23193                  NaN                         NaN                 NaN   \n",
       "17947                 47.0                       716.0                 2.0   \n",
       "604                   47.0                       348.0                 1.0   \n",
       "\n",
       "       product_weight_g  product_length_cm  product_height_cm  \\\n",
       "6215              750.0               20.0               20.0   \n",
       "879               150.0               16.0               13.0   \n",
       "32580           19500.0               25.0               60.0   \n",
       "23994             300.0               18.0                7.0   \n",
       "26051             600.0               20.0               25.0   \n",
       "7613              300.0               16.0               15.0   \n",
       "24663             800.0               20.0               20.0   \n",
       "23193             200.0               16.0                2.0   \n",
       "17947             200.0               16.0               12.0   \n",
       "604              2900.0               40.0               10.0   \n",
       "\n",
       "       product_width_cm  \n",
       "6215               20.0  \n",
       "879                11.0  \n",
       "32580              55.0  \n",
       "23994              20.0  \n",
       "26051              25.0  \n",
       "7613               15.0  \n",
       "24663              20.0  \n",
       "23193              11.0  \n",
       "17947              12.0  \n",
       "604                35.0  "
      ]
     },
     "execution_count": 22,
     "metadata": {},
     "output_type": "execute_result"
    }
   ],
   "source": [
    "products.sample(10)"
   ]
  },
  {
   "cell_type": "markdown",
   "metadata": {},
   "source": [
    "- Customers"
   ]
  },
  {
   "cell_type": "code",
   "execution_count": 23,
   "metadata": {},
   "outputs": [
    {
     "name": "stdout",
     "output_type": "stream",
     "text": [
      "<class 'pandas.core.frame.DataFrame'>\n",
      "RangeIndex: 99441 entries, 0 to 99440\n",
      "Data columns (total 5 columns):\n",
      " #   Column                    Non-Null Count  Dtype \n",
      "---  ------                    --------------  ----- \n",
      " 0   customer_id               99441 non-null  object\n",
      " 1   customer_unique_id        99441 non-null  object\n",
      " 2   customer_zip_code_prefix  99441 non-null  int64 \n",
      " 3   customer_city             99441 non-null  object\n",
      " 4   customer_state            99441 non-null  object\n",
      "dtypes: int64(1), object(4)\n",
      "memory usage: 3.8+ MB\n"
     ]
    }
   ],
   "source": [
    "customers.info()"
   ]
  },
  {
   "cell_type": "code",
   "execution_count": 24,
   "metadata": {},
   "outputs": [
    {
     "data": {
      "application/vnd.microsoft.datawrangler.viewer.v0+json": {
       "columns": [
        {
         "name": "index",
         "rawType": "int64",
         "type": "integer"
        },
        {
         "name": "customer_id",
         "rawType": "object",
         "type": "string"
        },
        {
         "name": "customer_unique_id",
         "rawType": "object",
         "type": "string"
        },
        {
         "name": "customer_zip_code_prefix",
         "rawType": "int64",
         "type": "integer"
        },
        {
         "name": "customer_city",
         "rawType": "object",
         "type": "string"
        },
        {
         "name": "customer_state",
         "rawType": "object",
         "type": "string"
        }
       ],
       "conversionMethod": "pd.DataFrame",
       "ref": "3e651ea7-4e46-4873-a281-1be775452296",
       "rows": [
        [
         "66313",
         "4308db2f3f1ce5f817e16184cd306817",
         "d3f642cc48a40ef10805ad6f1faaaed9",
         "11025",
         "santos",
         "SP"
        ],
        [
         "81162",
         "c8601345ccaff528cbca46e04f74ff2b",
         "e09e509936d44d03ec876c40b0f6dd3f",
         "98802",
         "santo angelo",
         "RS"
        ],
        [
         "2200",
         "d02958d0f6d506f6f18d837c8aa16268",
         "7f95c43c439d2d15474b0cb283b4a0e6",
         "13874",
         "sao joao da boa vista",
         "SP"
        ],
        [
         "45090",
         "fb00fcec2e41b08e44dac5629abfed29",
         "f0f8fdb82b298c54b772345315e19e49",
         "37706",
         "pocos de caldas",
         "MG"
        ],
        [
         "57855",
         "09c50d2e3af66a47ca1c6b4201c0da0f",
         "b009823cfeee3095f86635d366ea8b69",
         "37440",
         "caxambu",
         "MG"
        ],
        [
         "97326",
         "512ab098fa4d12ef6885a8ccedc02eaf",
         "fa9e894ac0b2378ba83156e9281caacc",
         "69021",
         "manaus",
         "AM"
        ],
        [
         "33585",
         "67de99df30be5012ce8bfd6501f3c8b4",
         "96e5c1c79b1bc887c0c7e18b115fec6f",
         "3251",
         "sao paulo",
         "SP"
        ],
        [
         "51443",
         "3bd34d2695b29daf46c726ca65adaa76",
         "2902aa119b0d5e66be473e52db5d52d6",
         "65071",
         "sao luis",
         "MA"
        ],
        [
         "89682",
         "957eb9ed2b71b5439f68a865a736de0d",
         "a78e22cba17a2973cf70d283b4119b5a",
         "88904",
         "ararangua",
         "SC"
        ],
        [
         "13574",
         "b63f9ce4daa4f644ab9caa56c9b5c2c1",
         "db1a6e0430bf36f278e03105fc48ebf3",
         "11370",
         "sao vicente",
         "SP"
        ]
       ],
       "shape": {
        "columns": 5,
        "rows": 10
       }
      },
      "text/html": [
       "<div>\n",
       "<style scoped>\n",
       "    .dataframe tbody tr th:only-of-type {\n",
       "        vertical-align: middle;\n",
       "    }\n",
       "\n",
       "    .dataframe tbody tr th {\n",
       "        vertical-align: top;\n",
       "    }\n",
       "\n",
       "    .dataframe thead th {\n",
       "        text-align: right;\n",
       "    }\n",
       "</style>\n",
       "<table border=\"1\" class=\"dataframe\">\n",
       "  <thead>\n",
       "    <tr style=\"text-align: right;\">\n",
       "      <th></th>\n",
       "      <th>customer_id</th>\n",
       "      <th>customer_unique_id</th>\n",
       "      <th>customer_zip_code_prefix</th>\n",
       "      <th>customer_city</th>\n",
       "      <th>customer_state</th>\n",
       "    </tr>\n",
       "  </thead>\n",
       "  <tbody>\n",
       "    <tr>\n",
       "      <th>66313</th>\n",
       "      <td>4308db2f3f1ce5f817e16184cd306817</td>\n",
       "      <td>d3f642cc48a40ef10805ad6f1faaaed9</td>\n",
       "      <td>11025</td>\n",
       "      <td>santos</td>\n",
       "      <td>SP</td>\n",
       "    </tr>\n",
       "    <tr>\n",
       "      <th>81162</th>\n",
       "      <td>c8601345ccaff528cbca46e04f74ff2b</td>\n",
       "      <td>e09e509936d44d03ec876c40b0f6dd3f</td>\n",
       "      <td>98802</td>\n",
       "      <td>santo angelo</td>\n",
       "      <td>RS</td>\n",
       "    </tr>\n",
       "    <tr>\n",
       "      <th>2200</th>\n",
       "      <td>d02958d0f6d506f6f18d837c8aa16268</td>\n",
       "      <td>7f95c43c439d2d15474b0cb283b4a0e6</td>\n",
       "      <td>13874</td>\n",
       "      <td>sao joao da boa vista</td>\n",
       "      <td>SP</td>\n",
       "    </tr>\n",
       "    <tr>\n",
       "      <th>45090</th>\n",
       "      <td>fb00fcec2e41b08e44dac5629abfed29</td>\n",
       "      <td>f0f8fdb82b298c54b772345315e19e49</td>\n",
       "      <td>37706</td>\n",
       "      <td>pocos de caldas</td>\n",
       "      <td>MG</td>\n",
       "    </tr>\n",
       "    <tr>\n",
       "      <th>57855</th>\n",
       "      <td>09c50d2e3af66a47ca1c6b4201c0da0f</td>\n",
       "      <td>b009823cfeee3095f86635d366ea8b69</td>\n",
       "      <td>37440</td>\n",
       "      <td>caxambu</td>\n",
       "      <td>MG</td>\n",
       "    </tr>\n",
       "    <tr>\n",
       "      <th>97326</th>\n",
       "      <td>512ab098fa4d12ef6885a8ccedc02eaf</td>\n",
       "      <td>fa9e894ac0b2378ba83156e9281caacc</td>\n",
       "      <td>69021</td>\n",
       "      <td>manaus</td>\n",
       "      <td>AM</td>\n",
       "    </tr>\n",
       "    <tr>\n",
       "      <th>33585</th>\n",
       "      <td>67de99df30be5012ce8bfd6501f3c8b4</td>\n",
       "      <td>96e5c1c79b1bc887c0c7e18b115fec6f</td>\n",
       "      <td>3251</td>\n",
       "      <td>sao paulo</td>\n",
       "      <td>SP</td>\n",
       "    </tr>\n",
       "    <tr>\n",
       "      <th>51443</th>\n",
       "      <td>3bd34d2695b29daf46c726ca65adaa76</td>\n",
       "      <td>2902aa119b0d5e66be473e52db5d52d6</td>\n",
       "      <td>65071</td>\n",
       "      <td>sao luis</td>\n",
       "      <td>MA</td>\n",
       "    </tr>\n",
       "    <tr>\n",
       "      <th>89682</th>\n",
       "      <td>957eb9ed2b71b5439f68a865a736de0d</td>\n",
       "      <td>a78e22cba17a2973cf70d283b4119b5a</td>\n",
       "      <td>88904</td>\n",
       "      <td>ararangua</td>\n",
       "      <td>SC</td>\n",
       "    </tr>\n",
       "    <tr>\n",
       "      <th>13574</th>\n",
       "      <td>b63f9ce4daa4f644ab9caa56c9b5c2c1</td>\n",
       "      <td>db1a6e0430bf36f278e03105fc48ebf3</td>\n",
       "      <td>11370</td>\n",
       "      <td>sao vicente</td>\n",
       "      <td>SP</td>\n",
       "    </tr>\n",
       "  </tbody>\n",
       "</table>\n",
       "</div>"
      ],
      "text/plain": [
       "                            customer_id                customer_unique_id  \\\n",
       "66313  4308db2f3f1ce5f817e16184cd306817  d3f642cc48a40ef10805ad6f1faaaed9   \n",
       "81162  c8601345ccaff528cbca46e04f74ff2b  e09e509936d44d03ec876c40b0f6dd3f   \n",
       "2200   d02958d0f6d506f6f18d837c8aa16268  7f95c43c439d2d15474b0cb283b4a0e6   \n",
       "45090  fb00fcec2e41b08e44dac5629abfed29  f0f8fdb82b298c54b772345315e19e49   \n",
       "57855  09c50d2e3af66a47ca1c6b4201c0da0f  b009823cfeee3095f86635d366ea8b69   \n",
       "97326  512ab098fa4d12ef6885a8ccedc02eaf  fa9e894ac0b2378ba83156e9281caacc   \n",
       "33585  67de99df30be5012ce8bfd6501f3c8b4  96e5c1c79b1bc887c0c7e18b115fec6f   \n",
       "51443  3bd34d2695b29daf46c726ca65adaa76  2902aa119b0d5e66be473e52db5d52d6   \n",
       "89682  957eb9ed2b71b5439f68a865a736de0d  a78e22cba17a2973cf70d283b4119b5a   \n",
       "13574  b63f9ce4daa4f644ab9caa56c9b5c2c1  db1a6e0430bf36f278e03105fc48ebf3   \n",
       "\n",
       "       customer_zip_code_prefix          customer_city customer_state  \n",
       "66313                     11025                 santos             SP  \n",
       "81162                     98802           santo angelo             RS  \n",
       "2200                      13874  sao joao da boa vista             SP  \n",
       "45090                     37706        pocos de caldas             MG  \n",
       "57855                     37440                caxambu             MG  \n",
       "97326                     69021                 manaus             AM  \n",
       "33585                      3251              sao paulo             SP  \n",
       "51443                     65071               sao luis             MA  \n",
       "89682                     88904              ararangua             SC  \n",
       "13574                     11370            sao vicente             SP  "
      ]
     },
     "execution_count": 24,
     "metadata": {},
     "output_type": "execute_result"
    }
   ],
   "source": [
    "customers.sample(10)"
   ]
  },
  {
   "cell_type": "markdown",
   "metadata": {},
   "source": [
    "- Category Translation"
   ]
  },
  {
   "cell_type": "code",
   "execution_count": 25,
   "metadata": {},
   "outputs": [
    {
     "name": "stdout",
     "output_type": "stream",
     "text": [
      "<class 'pandas.core.frame.DataFrame'>\n",
      "RangeIndex: 71 entries, 0 to 70\n",
      "Data columns (total 2 columns):\n",
      " #   Column                         Non-Null Count  Dtype \n",
      "---  ------                         --------------  ----- \n",
      " 0   product_category_name          71 non-null     object\n",
      " 1   product_category_name_english  71 non-null     object\n",
      "dtypes: object(2)\n",
      "memory usage: 1.2+ KB\n"
     ]
    }
   ],
   "source": [
    "category_translation.info()"
   ]
  },
  {
   "cell_type": "code",
   "execution_count": 26,
   "metadata": {},
   "outputs": [
    {
     "data": {
      "application/vnd.microsoft.datawrangler.viewer.v0+json": {
       "columns": [
        {
         "name": "index",
         "rawType": "int64",
         "type": "integer"
        },
        {
         "name": "product_category_name",
         "rawType": "object",
         "type": "string"
        },
        {
         "name": "product_category_name_english",
         "rawType": "object",
         "type": "string"
        }
       ],
       "conversionMethod": "pd.DataFrame",
       "ref": "da3868ac-7287-4520-b91a-18572407eea6",
       "rows": [
        [
         "66",
         "flores",
         "flowers"
        ],
        [
         "6",
         "perfumaria",
         "perfumery"
        ],
        [
         "68",
         "fraldas_higiene",
         "diapers_and_hygiene"
        ],
        [
         "17",
         "fashion_bolsas_e_acessorios",
         "fashion_bags_accessories"
        ],
        [
         "48",
         "livros_interesse_geral",
         "books_general_interest"
        ],
        [
         "0",
         "beleza_saude",
         "health_beauty"
        ],
        [
         "19",
         "consoles_games",
         "consoles_games"
        ],
        [
         "31",
         "market_place",
         "market_place"
        ],
        [
         "44",
         "industria_comercio_e_negocios",
         "industry_commerce_and_business"
        ],
        [
         "67",
         "artes_e_artesanato",
         "arts_and_craftmanship"
        ]
       ],
       "shape": {
        "columns": 2,
        "rows": 10
       }
      },
      "text/html": [
       "<div>\n",
       "<style scoped>\n",
       "    .dataframe tbody tr th:only-of-type {\n",
       "        vertical-align: middle;\n",
       "    }\n",
       "\n",
       "    .dataframe tbody tr th {\n",
       "        vertical-align: top;\n",
       "    }\n",
       "\n",
       "    .dataframe thead th {\n",
       "        text-align: right;\n",
       "    }\n",
       "</style>\n",
       "<table border=\"1\" class=\"dataframe\">\n",
       "  <thead>\n",
       "    <tr style=\"text-align: right;\">\n",
       "      <th></th>\n",
       "      <th>product_category_name</th>\n",
       "      <th>product_category_name_english</th>\n",
       "    </tr>\n",
       "  </thead>\n",
       "  <tbody>\n",
       "    <tr>\n",
       "      <th>66</th>\n",
       "      <td>flores</td>\n",
       "      <td>flowers</td>\n",
       "    </tr>\n",
       "    <tr>\n",
       "      <th>6</th>\n",
       "      <td>perfumaria</td>\n",
       "      <td>perfumery</td>\n",
       "    </tr>\n",
       "    <tr>\n",
       "      <th>68</th>\n",
       "      <td>fraldas_higiene</td>\n",
       "      <td>diapers_and_hygiene</td>\n",
       "    </tr>\n",
       "    <tr>\n",
       "      <th>17</th>\n",
       "      <td>fashion_bolsas_e_acessorios</td>\n",
       "      <td>fashion_bags_accessories</td>\n",
       "    </tr>\n",
       "    <tr>\n",
       "      <th>48</th>\n",
       "      <td>livros_interesse_geral</td>\n",
       "      <td>books_general_interest</td>\n",
       "    </tr>\n",
       "    <tr>\n",
       "      <th>0</th>\n",
       "      <td>beleza_saude</td>\n",
       "      <td>health_beauty</td>\n",
       "    </tr>\n",
       "    <tr>\n",
       "      <th>19</th>\n",
       "      <td>consoles_games</td>\n",
       "      <td>consoles_games</td>\n",
       "    </tr>\n",
       "    <tr>\n",
       "      <th>31</th>\n",
       "      <td>market_place</td>\n",
       "      <td>market_place</td>\n",
       "    </tr>\n",
       "    <tr>\n",
       "      <th>44</th>\n",
       "      <td>industria_comercio_e_negocios</td>\n",
       "      <td>industry_commerce_and_business</td>\n",
       "    </tr>\n",
       "    <tr>\n",
       "      <th>67</th>\n",
       "      <td>artes_e_artesanato</td>\n",
       "      <td>arts_and_craftmanship</td>\n",
       "    </tr>\n",
       "  </tbody>\n",
       "</table>\n",
       "</div>"
      ],
      "text/plain": [
       "            product_category_name   product_category_name_english\n",
       "66                         flores                         flowers\n",
       "6                      perfumaria                       perfumery\n",
       "68                fraldas_higiene             diapers_and_hygiene\n",
       "17    fashion_bolsas_e_acessorios        fashion_bags_accessories\n",
       "48         livros_interesse_geral          books_general_interest\n",
       "0                    beleza_saude                   health_beauty\n",
       "19                 consoles_games                  consoles_games\n",
       "31                   market_place                    market_place\n",
       "44  industria_comercio_e_negocios  industry_commerce_and_business\n",
       "67             artes_e_artesanato           arts_and_craftmanship"
      ]
     },
     "execution_count": 26,
     "metadata": {},
     "output_type": "execute_result"
    }
   ],
   "source": [
    "category_translation.sample(10)"
   ]
  }
 ],
 "metadata": {
  "kernelspec": {
   "display_name": "Python 3",
   "language": "python",
   "name": "python3"
  },
  "language_info": {
   "codemirror_mode": {
    "name": "ipython",
    "version": 3
   },
   "file_extension": ".py",
   "mimetype": "text/x-python",
   "name": "python",
   "nbconvert_exporter": "python",
   "pygments_lexer": "ipython3",
   "version": "3.12.6"
  }
 },
 "nbformat": 4,
 "nbformat_minor": 2
}
